{
 "cells": [
  {
   "cell_type": "markdown",
   "metadata": {},
   "source": [
    "![title](MIT.png)\n",
    "\n",
    " #  <font color= #B30838> Travel Salesman Problem - TSP | Gurobi | V[1]. </font>\n",
    "\n",
    "<div class=\"alert alert-info\"> </h4> **Travel Salesman Problem desarrollado para los curso de Investigación operativa 2 y Cadena de Suminitros**\n",
    "</h4> </div>\n",
    "\n",
    "El objetivo de este material es aprender a utilizar Gurobi con python. \n",
    "<img src=\"logo gurobi.png\" width=\"400\" height=\"400\" />\n"
   ]
  },
  {
   "cell_type": "code",
   "execution_count": 1,
   "metadata": {},
   "outputs": [],
   "source": [
    "from gurobipy import *"
   ]
  },
  {
   "cell_type": "code",
   "execution_count": 2,
   "metadata": {},
   "outputs": [],
   "source": [
    "import numpy as np\n",
    "import matplotlib.pyplot as plt"
   ]
  },
  {
   "cell_type": "code",
   "execution_count": 3,
   "metadata": {},
   "outputs": [],
   "source": [
    "n=10\n",
    "ciudades=[i for i in range(n)] # Creamos ciudades de la 0 a la 9  \n",
    "arcos =[(i,j) for i in ciudades for j in ciudades if i!=j]"
   ]
  },
  {
   "cell_type": "code",
   "execution_count": 4,
   "metadata": {},
   "outputs": [],
   "source": [
    "#Ahora crearemos las cordenadas para cada ciudad.\n",
    "random=np.random\n",
    "random.seed(1)\n",
    "coord_x=random.rand(n)*100\n",
    "coord_y=random.rand(n)*100\n",
    "#print(\" Cordenadas de X para todas las ciudades\")\n",
    "#print(coord_x)\n",
    "#print(\"---------------------------------------------------------------------\")\n",
    "#print(\" Cordenadas de y para todas las ciudades\")\n",
    "#print(coord_y)"
   ]
  },
  {
   "cell_type": "code",
   "execution_count": 5,
   "metadata": {},
   "outputs": [
    {
     "data": {
      "image/png": "[encoded data removed]",
      "text/plain": [
       "<matplotlib.figure.Figure at 0x10f6e4cc0>"
      ]
     },
     "metadata": {},
     "output_type": "display_data"
    }
   ],
   "source": [
    "x=coord_x\n",
    "y=coord_y\n",
    "\n",
    "plt.figure(figsize=(12,5))\n",
    "plt.scatter(x,y,color='blue')\n",
    "s=[]\n",
    "for n in range(len(coord_x)):\n",
    "    s_temp=[]\n",
    "    s_temp.append(\"%.1f\" %coord_x[n])\n",
    "    s_temp.append(\"%.1f\" %coord_y[n])\n",
    "    s.append(s_temp)\n",
    "\n",
    "plt.xlabel(\"Distancia X\")\n",
    "plt.ylabel(\"Distancia Y\")\n",
    "plt.title(\"Ubicación de las ciudades - TSP\")\n",
    "\n",
    "for n in range(len(coord_x)):\n",
    "    plt.annotate(str(s[n]), xy=(coord_x[n],coord_y[n] ), xytext=(coord_x[n]-4,coord_y[n]-4), \n",
    "                 color='purple')\n",
    "    \n",
    "for n in range(len(coord_x)):\n",
    "    plt.annotate(str(n), xy=(coord_x[n],coord_y[n] ), xytext=(coord_x[n]+0.5,coord_y[n]+1),\n",
    "                 color='red')\n",
    "\n",
    "plt.show()"
   ]
  },
  {
   "cell_type": "code",
   "execution_count": 6,
   "metadata": {},
   "outputs": [],
   "source": [
    "distancia={(i, j): np.hypot(coord_x[i] - coord_x[j], coord_y[i] - coord_y[j]) for i,j in arcos}"
   ]
  },
  {
   "cell_type": "code",
   "execution_count": 7,
   "metadata": {},
   "outputs": [
    {
     "name": "stdout",
     "output_type": "stream",
     "text": [
      "Academic license - for non-commercial use only\n"
     ]
    }
   ],
   "source": [
    "model = Model('Travel SalesMan Problem - Gurobi')"
   ]
  },
  {
   "cell_type": "code",
   "execution_count": 8,
   "metadata": {},
   "outputs": [],
   "source": [
    "x = model.addVars(arcos, vtype=GRB.BINARY, name='x')\n",
    "u = model.addVars(ciudades, vtype=GRB.CONTINUOUS, name='u')"
   ]
  },
  {
   "cell_type": "code",
   "execution_count": 9,
   "metadata": {},
   "outputs": [],
   "source": [
    "model.setObjective(quicksum(distancia[i] * x[i] for i in arcos), GRB.MINIMIZE)\n",
    "\n",
    "for k in ciudades:\n",
    "    model.addConstr(quicksum(x[(i,j)] for i,j in arcos if i==k)==1, name='out_%d'%k)\n",
    "    \n",
    "for k in ciudades:\n",
    "    model.addConstr(quicksum(x[(i,j)] for i,j in arcos if j==k)==1, name='in_%d'%k)\n",
    "\n",
    "for i, j in arcos:\n",
    "    #indicator constraint\n",
    "    if j!=0:\n",
    "        model.addConstr((x[(i, j)] == 1) >> (u[i] + 1 == u[j]), name='order_(%d,_%d)'%(i, j))\n",
    "        "
   ]
  },
  {
   "cell_type": "code",
   "execution_count": 10,
   "metadata": {},
   "outputs": [
    {
     "name": "stdout",
     "output_type": "stream",
     "text": [
      "Changed value of parameter timeLimit to 60.0\n",
      "   Prev: 1e+100  Min: 0.0  Max: 1e+100  Default: 1e+100\n",
      "Changed value of parameter MIPGap to 0.2\n",
      "   Prev: 0.0001  Min: 0.0  Max: 1e+100  Default: 0.0001\n",
      "Optimize a model with 20 rows, 100 columns and 180 nonzeros\n",
      "Model has 81 general constraints\n",
      "Variable types: 10 continuous, 90 integer (90 binary)\n",
      "Coefficient statistics:\n",
      "  Matrix range     [1e+00, 1e+00]\n",
      "  Objective range  [2e+01, 9e+01]\n",
      "  Bounds range     [1e+00, 1e+00]\n",
      "  RHS range        [1e+00, 1e+00]\n",
      "Presolve added 81 rows and 81 columns\n",
      "Presolve time: 0.02s\n",
      "Presolved: 101 rows, 181 columns, 387 nonzeros\n",
      "Presolved model has 81 SOS constraint(s)\n",
      "Variable types: 91 continuous, 90 integer (90 binary)\n",
      "\n",
      "Root relaxation: objective 2.540685e+02, 16 iterations, 0.00 seconds\n",
      "\n",
      "    Nodes    |    Current Node    |     Objective Bounds      |     Work\n",
      " Expl Unexpl |  Obj  Depth IntInf | Incumbent    BestBd   Gap | It/Node Time\n",
      "\n",
      "     0     0  254.06854    0    9          -  254.06854      -     -    0s\n",
      "H    0     0                     366.4970937  254.06854  30.7%     -    0s\n",
      "     0     0  254.06854    0    9  366.49709  254.06854  30.7%     -    0s\n",
      "H    0     0                     277.0761938  254.06854  8.30%     -    0s\n",
      "\n",
      "Explored 1 nodes (16 simplex iterations) in 0.17 seconds\n",
      "Thread count was 4 (of 4 available processors)\n",
      "\n",
      "Solution count 2: 277.076 366.497 \n",
      "\n",
      "Optimal solution found (tolerance 2.00e-01)\n",
      "Best objective 2.770761938420e+02, best bound 2.540685436003e+02, gap 8.3037%\n"
     ]
    }
   ],
   "source": [
    "model.Params.timeLimit = 60\n",
    "model.Params.MIPGap = 0.2\n",
    "model.optimize()"
   ]
  },
  {
   "cell_type": "code",
   "execution_count": 11,
   "metadata": {},
   "outputs": [
    {
     "data": {
      "text/plain": [
       "2"
      ]
     },
     "execution_count": 11,
     "metadata": {},
     "output_type": "execute_result"
    }
   ],
   "source": [
    "model.Status"
   ]
  },
  {
   "cell_type": "code",
   "execution_count": 12,
   "metadata": {},
   "outputs": [],
   "source": [
    "#model.getVars()"
   ]
  },
  {
   "cell_type": "code",
   "execution_count": 13,
   "metadata": {},
   "outputs": [
    {
     "data": {
      "text/plain": [
       "2"
      ]
     },
     "execution_count": 13,
     "metadata": {},
     "output_type": "execute_result"
    }
   ],
   "source": [
    "model.SolCount"
   ]
  },
  {
   "cell_type": "code",
   "execution_count": 14,
   "metadata": {},
   "outputs": [
    {
     "data": {
      "text/plain": [
       "277.0761938420476"
      ]
     },
     "execution_count": 14,
     "metadata": {},
     "output_type": "execute_result"
    }
   ],
   "source": [
    "model.ObjVal"
   ]
  },
  {
   "cell_type": "code",
   "execution_count": 15,
   "metadata": {},
   "outputs": [
    {
     "data": {
      "text/plain": [
       "[(0, 7),\n",
       " (1, 3),\n",
       " (2, 4),\n",
       " (3, 5),\n",
       " (4, 8),\n",
       " (5, 6),\n",
       " (6, 2),\n",
       " (7, 1),\n",
       " (8, 9),\n",
       " (9, 0)]"
      ]
     },
     "execution_count": 15,
     "metadata": {},
     "output_type": "execute_result"
    }
   ],
   "source": [
    "arcos_activos = [i for i in arcos if x[i].x > 0.9]\n",
    "arcos_activos"
   ]
  },
  {
   "cell_type": "code",
   "execution_count": 16,
   "metadata": {},
   "outputs": [
    {
     "data": {
      "image/png": "[encoded data removed]",
      "text/plain": [
       "<matplotlib.figure.Figure at 0x10f9a1f28>"
      ]
     },
     "metadata": {},
     "output_type": "display_data"
    }
   ],
   "source": [
    "#Imprimiento la solución óptima.\n",
    "\n",
    "plt.figure(figsize=(12,5))\n",
    "plt.xlabel(\"Distancia X\")\n",
    "plt.ylabel(\"Distancia Y\")\n",
    "plt.title(\"Ubicación de las ciudades - TSP\")\n",
    "\n",
    "for i,j in arcos_activos:\n",
    "    plt.plot([coord_x[i],coord_x[j]],[coord_y[i],coord_y[j]],\n",
    "              color='b', alpha=0.4, zorder=0)\n",
    "plt.scatter(x=coord_x, y=coord_y, color='blue', zorder=1)\n",
    "    \n",
    "for n in range(len(coord_x)):\n",
    "    plt.annotate(str(s[n]), xy=(coord_x[n],coord_y[n] ), \n",
    "                 xytext=(coord_x[n]-4,coord_y[n]-4), color='purple')\n",
    "    \n",
    "for n in range(len(coord_x)):\n",
    "    plt.annotate(str(n), xy=(coord_x[n],coord_y[n] ), \n",
    "                 xytext=(coord_x[n]+0.5,coord_y[n]+1),color='red')\n",
    "    \n",
    "plt.xlim((0,100))\n",
    "plt.ylim((0,100))\n",
    "plt.show()"
   ]
  },
  {
   "cell_type": "code",
   "execution_count": null,
   "metadata": {},
   "outputs": [],
   "source": []
  }
 ],
 "metadata": {
  "kernelspec": {
   "display_name": "Python 3",
   "language": "python",
   "name": "python3"
  },
  "language_info": {
   "codemirror_mode": {
    "name": "ipython",
    "version": 3
   },
   "file_extension": ".py",
   "mimetype": "text/x-python",
   "name": "python",
   "nbconvert_exporter": "python",
   "pygments_lexer": "ipython3",
   "version": "3.6.3"
  }
 },
 "nbformat": 4,
 "nbformat_minor": 2
}
