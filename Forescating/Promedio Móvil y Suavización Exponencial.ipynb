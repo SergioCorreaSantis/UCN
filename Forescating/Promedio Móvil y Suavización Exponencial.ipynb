{
 "cells": [
  {
   "cell_type": "markdown",
   "metadata": {},
   "source": [
    "![title](UCN ICI.png)\n",
    "\n",
    " #  <font color='#7E9BC0'> Promedio Móvil y Suavización Exponencial. </font>\n",
    "\n",
    "<div class=\"alert alert-info\"> </h4> **Material preparado para la carrera de Ingeniería Civil Industrial | Universidad Católica del Norte | Escuela de Ingeniería - Campus Coquimbo | Curso - Adminitración de la Producción 2.**\n",
    "</h4> </div>\n",
    "\n",
    "\n",
    "<div class=\"alert alert-block alert-warning\">\n",
    "\n",
    "<b> **Autor:**</b> \n",
    "Este material es una recopilacion de trabajos de clases y proyectos realizados por Sergio Correa Santis. Si necestita mayor información o quiere utilizar este material en forma parcial o total, solo debe utilizar la correspondiente referencia o escribir a **sergio.correa@ucn.cl**.  \n",
    "</div>\n",
    "\n",
    "Documentación:\n",
    "- Método de Suvaización Exponencial Simple, Statsmodels: [SimpleExpSmoothing](https://www.statsmodels.org/dev/generated/statsmodels.tsa.holtwinters.SimpleExpSmoothing.html?highlight=simpleexpsmoothing#statsmodels.tsa.holtwinters.SimpleExpSmoothing)\n",
    "- Método deSuvaización Exponencial Simple Fit, Statsmodels: [SimpleExpSmoothing.fit](https://www.statsmodels.org/dev/generated/statsmodels.tsa.holtwinters.SimpleExpSmoothing.fit.html#statsmodels.tsa.holtwinters.SimpleExpSmoothing.fit)"
   ]
  },
  {
   "cell_type": "code",
   "execution_count": 1,
   "metadata": {},
   "outputs": [],
   "source": [
    "import numpy as np\n",
    "import pandas as pd\n",
    "import seaborn as sns\n",
    "import matplotlib.pyplot as plt"
   ]
  },
  {
   "cell_type": "code",
   "execution_count": 2,
   "metadata": {},
   "outputs": [
    {
     "data": {
      "text/html": [
       "<div>\n",
       "<style scoped>\n",
       "    .dataframe tbody tr th:only-of-type {\n",
       "        vertical-align: middle;\n",
       "    }\n",
       "\n",
       "    .dataframe tbody tr th {\n",
       "        vertical-align: top;\n",
       "    }\n",
       "\n",
       "    .dataframe thead th {\n",
       "        text-align: right;\n",
       "    }\n",
       "</style>\n",
       "<table border=\"1\" class=\"dataframe\">\n",
       "  <thead>\n",
       "    <tr style=\"text-align: right;\">\n",
       "      <th></th>\n",
       "      <th>Periodo</th>\n",
       "      <th>Mes</th>\n",
       "      <th>Demanda</th>\n",
       "    </tr>\n",
       "  </thead>\n",
       "  <tbody>\n",
       "    <tr>\n",
       "      <td>0</td>\n",
       "      <td>1</td>\n",
       "      <td>Ene</td>\n",
       "      <td>37.0</td>\n",
       "    </tr>\n",
       "    <tr>\n",
       "      <td>1</td>\n",
       "      <td>2</td>\n",
       "      <td>Feb</td>\n",
       "      <td>40.0</td>\n",
       "    </tr>\n",
       "    <tr>\n",
       "      <td>2</td>\n",
       "      <td>3</td>\n",
       "      <td>Mar</td>\n",
       "      <td>41.0</td>\n",
       "    </tr>\n",
       "    <tr>\n",
       "      <td>3</td>\n",
       "      <td>4</td>\n",
       "      <td>Abr</td>\n",
       "      <td>37.0</td>\n",
       "    </tr>\n",
       "    <tr>\n",
       "      <td>4</td>\n",
       "      <td>5</td>\n",
       "      <td>May</td>\n",
       "      <td>45.0</td>\n",
       "    </tr>\n",
       "  </tbody>\n",
       "</table>\n",
       "</div>"
      ],
      "text/plain": [
       "   Periodo   Mes  Demanda\n",
       "0        1  Ene      37.0\n",
       "1        2   Feb     40.0\n",
       "2        3   Mar     41.0\n",
       "3        4   Abr     37.0\n",
       "4        5   May     45.0"
      ]
     },
     "execution_count": 2,
     "metadata": {},
     "output_type": "execute_result"
    }
   ],
   "source": [
    "excel=pd.ExcelFile('Data_1.xlsx')\n",
    "#('/Users/sergiocorreasantis/Desktop/Python/archivos/Data_pronostico-Hanke.xlsx')\n",
    "original =pd.read_excel(excel,'Hoja1')\n",
    "df=original.copy()\n",
    "df.head()"
   ]
  },
  {
   "cell_type": "code",
   "execution_count": 3,
   "metadata": {},
   "outputs": [
    {
     "data": {
      "text/html": [
       "<div>\n",
       "<style scoped>\n",
       "    .dataframe tbody tr th:only-of-type {\n",
       "        vertical-align: middle;\n",
       "    }\n",
       "\n",
       "    .dataframe tbody tr th {\n",
       "        vertical-align: top;\n",
       "    }\n",
       "\n",
       "    .dataframe thead th {\n",
       "        text-align: right;\n",
       "    }\n",
       "</style>\n",
       "<table border=\"1\" class=\"dataframe\">\n",
       "  <thead>\n",
       "    <tr style=\"text-align: right;\">\n",
       "      <th></th>\n",
       "      <th>Periodo</th>\n",
       "      <th>Mes</th>\n",
       "      <th>Demanda</th>\n",
       "    </tr>\n",
       "  </thead>\n",
       "  <tbody>\n",
       "    <tr>\n",
       "      <td>0</td>\n",
       "      <td>1</td>\n",
       "      <td>Ene</td>\n",
       "      <td>37.0</td>\n",
       "    </tr>\n",
       "    <tr>\n",
       "      <td>1</td>\n",
       "      <td>2</td>\n",
       "      <td>Feb</td>\n",
       "      <td>40.0</td>\n",
       "    </tr>\n",
       "    <tr>\n",
       "      <td>2</td>\n",
       "      <td>3</td>\n",
       "      <td>Mar</td>\n",
       "      <td>41.0</td>\n",
       "    </tr>\n",
       "    <tr>\n",
       "      <td>3</td>\n",
       "      <td>4</td>\n",
       "      <td>Abr</td>\n",
       "      <td>37.0</td>\n",
       "    </tr>\n",
       "    <tr>\n",
       "      <td>4</td>\n",
       "      <td>5</td>\n",
       "      <td>May</td>\n",
       "      <td>45.0</td>\n",
       "    </tr>\n",
       "  </tbody>\n",
       "</table>\n",
       "</div>"
      ],
      "text/plain": [
       "   Periodo   Mes  Demanda\n",
       "0        1  Ene      37.0\n",
       "1        2   Feb     40.0\n",
       "2        3   Mar     41.0\n",
       "3        4   Abr     37.0\n",
       "4        5   May     45.0"
      ]
     },
     "execution_count": 3,
     "metadata": {},
     "output_type": "execute_result"
    }
   ],
   "source": [
    "df =pd.read_excel('Data_1.xlsx')\n",
    "df.head()"
   ]
  },
  {
   "cell_type": "code",
   "execution_count": 4,
   "metadata": {},
   "outputs": [
    {
     "data": {
      "image/png": "[encoded data removed]",
      "text/plain": [
       "<Figure size 864x360 with 1 Axes>"
      ]
     },
     "metadata": {
      "needs_background": "light"
     },
     "output_type": "display_data"
    }
   ],
   "source": [
    "plt.figure(figsize=(12,5))\n",
    "plt.plot(df['Periodo'],df['Demanda'])\n",
    "\n",
    "#Nombres de gráfico y ejes.\n",
    "plt.xlabel(\"Tiempo\",fontsize=14)\n",
    "plt.ylabel(\"Demanda\",fontsize=14)\n",
    "plt.title(\"Grafica de Demanda - Time Serie\",fontsize=18)\n",
    "plt.show()"
   ]
  },
  {
   "cell_type": "markdown",
   "metadata": {},
   "source": [
    " ##  <font color='#7E9BC0'> Promedio Móvil - Moving Average  </font>"
   ]
  },
  {
   "cell_type": "code",
   "execution_count": 5,
   "metadata": {},
   "outputs": [
    {
     "data": {
      "text/html": [
       "<div>\n",
       "<style scoped>\n",
       "    .dataframe tbody tr th:only-of-type {\n",
       "        vertical-align: middle;\n",
       "    }\n",
       "\n",
       "    .dataframe tbody tr th {\n",
       "        vertical-align: top;\n",
       "    }\n",
       "\n",
       "    .dataframe thead th {\n",
       "        text-align: right;\n",
       "    }\n",
       "</style>\n",
       "<table border=\"1\" class=\"dataframe\">\n",
       "  <thead>\n",
       "    <tr style=\"text-align: right;\">\n",
       "      <th></th>\n",
       "      <th>Periodo</th>\n",
       "      <th>Mes</th>\n",
       "      <th>Demanda</th>\n",
       "      <th>MA</th>\n",
       "    </tr>\n",
       "  </thead>\n",
       "  <tbody>\n",
       "    <tr>\n",
       "      <td>0</td>\n",
       "      <td>1</td>\n",
       "      <td>Ene</td>\n",
       "      <td>37.0</td>\n",
       "      <td>NaN</td>\n",
       "    </tr>\n",
       "    <tr>\n",
       "      <td>1</td>\n",
       "      <td>2</td>\n",
       "      <td>Feb</td>\n",
       "      <td>40.0</td>\n",
       "      <td>NaN</td>\n",
       "    </tr>\n",
       "    <tr>\n",
       "      <td>2</td>\n",
       "      <td>3</td>\n",
       "      <td>Mar</td>\n",
       "      <td>41.0</td>\n",
       "      <td>NaN</td>\n",
       "    </tr>\n",
       "    <tr>\n",
       "      <td>3</td>\n",
       "      <td>4</td>\n",
       "      <td>Abr</td>\n",
       "      <td>37.0</td>\n",
       "      <td>39.333333</td>\n",
       "    </tr>\n",
       "    <tr>\n",
       "      <td>4</td>\n",
       "      <td>5</td>\n",
       "      <td>May</td>\n",
       "      <td>45.0</td>\n",
       "      <td>39.333333</td>\n",
       "    </tr>\n",
       "    <tr>\n",
       "      <td>5</td>\n",
       "      <td>6</td>\n",
       "      <td>Jun</td>\n",
       "      <td>50.0</td>\n",
       "      <td>41.000000</td>\n",
       "    </tr>\n",
       "    <tr>\n",
       "      <td>6</td>\n",
       "      <td>7</td>\n",
       "      <td>Jul</td>\n",
       "      <td>43.0</td>\n",
       "      <td>44.000000</td>\n",
       "    </tr>\n",
       "    <tr>\n",
       "      <td>7</td>\n",
       "      <td>8</td>\n",
       "      <td>Ago</td>\n",
       "      <td>47.0</td>\n",
       "      <td>46.000000</td>\n",
       "    </tr>\n",
       "    <tr>\n",
       "      <td>8</td>\n",
       "      <td>9</td>\n",
       "      <td>Sep</td>\n",
       "      <td>56.0</td>\n",
       "      <td>46.666667</td>\n",
       "    </tr>\n",
       "    <tr>\n",
       "      <td>9</td>\n",
       "      <td>10</td>\n",
       "      <td>Oct</td>\n",
       "      <td>52.0</td>\n",
       "      <td>48.666667</td>\n",
       "    </tr>\n",
       "    <tr>\n",
       "      <td>10</td>\n",
       "      <td>11</td>\n",
       "      <td>Nov</td>\n",
       "      <td>55.0</td>\n",
       "      <td>51.666667</td>\n",
       "    </tr>\n",
       "    <tr>\n",
       "      <td>11</td>\n",
       "      <td>12</td>\n",
       "      <td>Dic</td>\n",
       "      <td>54.0</td>\n",
       "      <td>54.333333</td>\n",
       "    </tr>\n",
       "    <tr>\n",
       "      <td>12</td>\n",
       "      <td>13</td>\n",
       "      <td>Ene</td>\n",
       "      <td>NaN</td>\n",
       "      <td>53.666667</td>\n",
       "    </tr>\n",
       "  </tbody>\n",
       "</table>\n",
       "</div>"
      ],
      "text/plain": [
       "    Periodo   Mes  Demanda         MA\n",
       "0         1  Ene      37.0        NaN\n",
       "1         2   Feb     40.0        NaN\n",
       "2         3   Mar     41.0        NaN\n",
       "3         4   Abr     37.0  39.333333\n",
       "4         5   May     45.0  39.333333\n",
       "5         6   Jun     50.0  41.000000\n",
       "6         7   Jul     43.0  44.000000\n",
       "7         8   Ago     47.0  46.000000\n",
       "8         9   Sep     56.0  46.666667\n",
       "9        10   Oct     52.0  48.666667\n",
       "10       11   Nov     55.0  51.666667\n",
       "11       12   Dic     54.0  54.333333\n",
       "12       13  Ene       NaN  53.666667"
      ]
     },
     "metadata": {},
     "output_type": "display_data"
    }
   ],
   "source": [
    "df['MA']=df['Demanda'].rolling(window=3).mean().shift(1)\n",
    "display(df)\n",
    "ma_model = df['MA']"
   ]
  },
  {
   "cell_type": "code",
   "execution_count": 6,
   "metadata": {},
   "outputs": [
    {
     "data": {
      "image/png": "[encoded data removed]",
      "text/plain": [
       "<Figure size 864x360 with 1 Axes>"
      ]
     },
     "metadata": {
      "needs_background": "light"
     },
     "output_type": "display_data"
    }
   ],
   "source": [
    "plt.figure(figsize=(12,5))\n",
    "plt.plot(df['Periodo'],df['Demanda'],'o-',label=\"Demanda\")\n",
    "plt.plot(df['Periodo'],df['MA'],'o-',color=\"red\",label=\"Media Móvil\")\n",
    "\n",
    "#Nombres de gráfico y ejes.\n",
    "plt.xlabel(\"Tiempo\",fontsize=14)\n",
    "plt.ylabel(\"Demanda\",fontsize=14)\n",
    "plt.title(\"Grafica de Demanda - Time Serie\",fontsize=18)\n",
    "plt.legend(loc='best')\n",
    "plt.show()"
   ]
  },
  {
   "cell_type": "code",
   "execution_count": 7,
   "metadata": {},
   "outputs": [],
   "source": [
    "# Cómo exportar los datos a Excel.\n",
    "#df.to_excel(\"Pronóstico 1.xlsx\")"
   ]
  },
  {
   "cell_type": "markdown",
   "metadata": {},
   "source": [
    " ##  <font color='#7E9BC0'> Calculo de los errores - MSE, RMSE, MAD y MAPE  </font>"
   ]
  },
  {
   "cell_type": "code",
   "execution_count": 8,
   "metadata": {},
   "outputs": [],
   "source": [
    "from sklearn.metrics import mean_squared_error as MSE"
   ]
  },
  {
   "cell_type": "code",
   "execution_count": 9,
   "metadata": {},
   "outputs": [
    {
     "data": {
      "text/plain": [
       "3     37.0\n",
       "4     45.0\n",
       "5     50.0\n",
       "6     43.0\n",
       "7     47.0\n",
       "8     56.0\n",
       "9     52.0\n",
       "10    55.0\n",
       "11    54.0\n",
       "Name: Demanda, dtype: float64"
      ]
     },
     "execution_count": 9,
     "metadata": {},
     "output_type": "execute_result"
    }
   ],
   "source": [
    "df['Demanda'][3:12]"
   ]
  },
  {
   "cell_type": "code",
   "execution_count": 10,
   "metadata": {},
   "outputs": [
    {
     "data": {
      "text/plain": [
       "3     39.333333\n",
       "4     39.333333\n",
       "5     41.000000\n",
       "6     44.000000\n",
       "7     46.000000\n",
       "8     46.666667\n",
       "9     48.666667\n",
       "10    51.666667\n",
       "11    54.333333\n",
       "Name: MA, dtype: float64"
      ]
     },
     "execution_count": 10,
     "metadata": {},
     "output_type": "execute_result"
    }
   ],
   "source": [
    "df['MA'][3:12]"
   ]
  },
  {
   "cell_type": "code",
   "execution_count": 11,
   "metadata": {},
   "outputs": [
    {
     "data": {
      "text/plain": [
       "25.56"
      ]
     },
     "execution_count": 11,
     "metadata": {},
     "output_type": "execute_result"
    }
   ],
   "source": [
    "y_true=df['Demanda'][3:12]\n",
    "y_pred=df['MA'][3:12]\n",
    "mse=round(MSE(y_true, y_pred),2)\n",
    "mse"
   ]
  },
  {
   "cell_type": "code",
   "execution_count": 12,
   "metadata": {},
   "outputs": [
    {
     "data": {
      "text/plain": [
       "5.06"
      ]
     },
     "execution_count": 12,
     "metadata": {},
     "output_type": "execute_result"
    }
   ],
   "source": [
    "#RMSE\n",
    "rmse=round(mse**0.5,2)\n",
    "rmse"
   ]
  },
  {
   "cell_type": "code",
   "execution_count": 13,
   "metadata": {},
   "outputs": [
    {
     "data": {
      "text/plain": [
       "5.06"
      ]
     },
     "execution_count": 13,
     "metadata": {},
     "output_type": "execute_result"
    }
   ],
   "source": [
    "#RMSE\n",
    "import math\n",
    "rmse=round(math.sqrt(mse),2)\n",
    "rmse"
   ]
  },
  {
   "cell_type": "code",
   "execution_count": 14,
   "metadata": {},
   "outputs": [
    {
     "data": {
      "text/plain": [
       "3.93"
      ]
     },
     "execution_count": 14,
     "metadata": {},
     "output_type": "execute_result"
    }
   ],
   "source": [
    "#MAD\n",
    "from sklearn.metrics import mean_absolute_error as MAD\n",
    "y_true=df['Demanda'][3:12]\n",
    "y_pred=df['MA'][3:12]\n",
    "mad=round(MAD(y_true, y_pred),2)\n",
    "mad"
   ]
  },
  {
   "cell_type": "code",
   "execution_count": 15,
   "metadata": {},
   "outputs": [
    {
     "name": "stdout",
     "output_type": "stream",
     "text": [
      "Mean Absolute Desviation - MAD:  3.93\n",
      "Mean Percentage Error Absolute- MAPE:  7.9 %\n"
     ]
    }
   ],
   "source": [
    "#MAD y MAPE - no sklearn.\n",
    "mad = round(np.mean(np.absolute(y_true-y_pred)),2)\n",
    "print(\"Mean Absolute Desviation - MAD: \",mad)\n",
    "\n",
    "mape=round(np.mean(np.absolute(y_true-y_pred)/y_true),3)*100\n",
    "print(\"Mean Percentage Error Absolute- MAPE: \",mape,\"%\")"
   ]
  },
  {
   "cell_type": "markdown",
   "metadata": {},
   "source": [
    " ##  <font color='#7E9BC0'> Suavización Exponencial Simple - Exponencial Smooth  </font>"
   ]
  },
  {
   "cell_type": "code",
   "execution_count": 16,
   "metadata": {},
   "outputs": [
    {
     "data": {
      "text/plain": [
       "0     37.0\n",
       "1     40.0\n",
       "2     41.0\n",
       "3     37.0\n",
       "4     45.0\n",
       "5     50.0\n",
       "6     43.0\n",
       "7     47.0\n",
       "8     56.0\n",
       "9     52.0\n",
       "10    55.0\n",
       "11    54.0\n",
       "Name: Demanda, dtype: float64"
      ]
     },
     "execution_count": 16,
     "metadata": {},
     "output_type": "execute_result"
    }
   ],
   "source": [
    "# Volver a utilizar datos originales:\n",
    "df=original.copy()\n",
    "y_true=df['Demanda'][:12]\n",
    "y_true"
   ]
  },
  {
   "cell_type": "code",
   "execution_count": 17,
   "metadata": {},
   "outputs": [
    {
     "data": {
      "text/plain": [
       "12    49.546933\n",
       "13    49.546933\n",
       "14    49.546933\n",
       "dtype: float64"
      ]
     },
     "execution_count": 17,
     "metadata": {},
     "output_type": "execute_result"
    }
   ],
   "source": [
    "from statsmodels.tsa.api import SimpleExpSmoothing\n",
    "\n",
    "mod = SimpleExpSmoothing(y_true).fit(smoothing_level=0.2,optimized=False)\n",
    "pred=mod.forecast(3)\n",
    "pred"
   ]
  },
  {
   "cell_type": "code",
   "execution_count": 18,
   "metadata": {},
   "outputs": [
    {
     "data": {
      "text/plain": [
       "0     37.000000\n",
       "1     37.000000\n",
       "2     37.600000\n",
       "3     38.280000\n",
       "4     38.024000\n",
       "5     39.419200\n",
       "6     41.535360\n",
       "7     41.828288\n",
       "8     42.862630\n",
       "9     45.490104\n",
       "10    46.792083\n",
       "11    48.433667\n",
       "dtype: float64"
      ]
     },
     "execution_count": 18,
     "metadata": {},
     "output_type": "execute_result"
    }
   ],
   "source": [
    "#Valores para los periodos anteriores.\n",
    "mod.fittedvalues"
   ]
  },
  {
   "cell_type": "code",
   "execution_count": 19,
   "metadata": {},
   "outputs": [
    {
     "data": {
      "text/plain": [
       "array([37.        , 37.        , 37.6       , 38.28      , 38.024     ,\n",
       "       39.4192    , 41.53536   , 41.828288  , 42.8626304 , 45.49010432,\n",
       "       46.79208346, 48.43366676, 49.54693341])"
      ]
     },
     "execution_count": 19,
     "metadata": {},
     "output_type": "execute_result"
    }
   ],
   "source": [
    "#Todos los valores pronosticados.\n",
    "mod.fittedfcast"
   ]
  },
  {
   "cell_type": "code",
   "execution_count": 20,
   "metadata": {},
   "outputs": [
    {
     "data": {
      "text/html": [
       "<div>\n",
       "<style scoped>\n",
       "    .dataframe tbody tr th:only-of-type {\n",
       "        vertical-align: middle;\n",
       "    }\n",
       "\n",
       "    .dataframe tbody tr th {\n",
       "        vertical-align: top;\n",
       "    }\n",
       "\n",
       "    .dataframe thead th {\n",
       "        text-align: right;\n",
       "    }\n",
       "</style>\n",
       "<table border=\"1\" class=\"dataframe\">\n",
       "  <thead>\n",
       "    <tr style=\"text-align: right;\">\n",
       "      <th></th>\n",
       "      <th>name</th>\n",
       "      <th>param</th>\n",
       "      <th>optimized</th>\n",
       "    </tr>\n",
       "  </thead>\n",
       "  <tbody>\n",
       "    <tr>\n",
       "      <td>smoothing_level</td>\n",
       "      <td>alpha</td>\n",
       "      <td>0.2</td>\n",
       "      <td>False</td>\n",
       "    </tr>\n",
       "    <tr>\n",
       "      <td>initial_level</td>\n",
       "      <td>l.0</td>\n",
       "      <td>37.0</td>\n",
       "      <td>False</td>\n",
       "    </tr>\n",
       "  </tbody>\n",
       "</table>\n",
       "</div>"
      ],
      "text/plain": [
       "                  name  param  optimized\n",
       "smoothing_level  alpha    0.2      False\n",
       "initial_level      l.0   37.0      False"
      ]
     },
     "execution_count": 20,
     "metadata": {},
     "output_type": "execute_result"
    }
   ],
   "source": [
    "#Valores utilizados\n",
    "mod.params_formatted"
   ]
  },
  {
   "cell_type": "code",
   "execution_count": 21,
   "metadata": {},
   "outputs": [],
   "source": [
    "df['SES']=mod.fittedvalues.append(pred)"
   ]
  },
  {
   "cell_type": "code",
   "execution_count": 22,
   "metadata": {},
   "outputs": [],
   "source": [
    "df['Predicción']=pred"
   ]
  },
  {
   "cell_type": "code",
   "execution_count": 23,
   "metadata": {},
   "outputs": [
    {
     "data": {
      "text/html": [
       "<div>\n",
       "<style scoped>\n",
       "    .dataframe tbody tr th:only-of-type {\n",
       "        vertical-align: middle;\n",
       "    }\n",
       "\n",
       "    .dataframe tbody tr th {\n",
       "        vertical-align: top;\n",
       "    }\n",
       "\n",
       "    .dataframe thead th {\n",
       "        text-align: right;\n",
       "    }\n",
       "</style>\n",
       "<table border=\"1\" class=\"dataframe\">\n",
       "  <thead>\n",
       "    <tr style=\"text-align: right;\">\n",
       "      <th></th>\n",
       "      <th>Periodo</th>\n",
       "      <th>Mes</th>\n",
       "      <th>Demanda</th>\n",
       "      <th>SES</th>\n",
       "      <th>Predicción</th>\n",
       "    </tr>\n",
       "  </thead>\n",
       "  <tbody>\n",
       "    <tr>\n",
       "      <td>0</td>\n",
       "      <td>1</td>\n",
       "      <td>Ene</td>\n",
       "      <td>37</td>\n",
       "      <td>37</td>\n",
       "      <td>NaN</td>\n",
       "    </tr>\n",
       "    <tr>\n",
       "      <td>1</td>\n",
       "      <td>2</td>\n",
       "      <td>Feb</td>\n",
       "      <td>40</td>\n",
       "      <td>37</td>\n",
       "      <td>NaN</td>\n",
       "    </tr>\n",
       "    <tr>\n",
       "      <td>2</td>\n",
       "      <td>3</td>\n",
       "      <td>Mar</td>\n",
       "      <td>41</td>\n",
       "      <td>37.6</td>\n",
       "      <td>NaN</td>\n",
       "    </tr>\n",
       "    <tr>\n",
       "      <td>3</td>\n",
       "      <td>4</td>\n",
       "      <td>Abr</td>\n",
       "      <td>37</td>\n",
       "      <td>38.28</td>\n",
       "      <td>NaN</td>\n",
       "    </tr>\n",
       "    <tr>\n",
       "      <td>4</td>\n",
       "      <td>5</td>\n",
       "      <td>May</td>\n",
       "      <td>45</td>\n",
       "      <td>38.024</td>\n",
       "      <td>NaN</td>\n",
       "    </tr>\n",
       "    <tr>\n",
       "      <td>5</td>\n",
       "      <td>6</td>\n",
       "      <td>Jun</td>\n",
       "      <td>50</td>\n",
       "      <td>39.4192</td>\n",
       "      <td>NaN</td>\n",
       "    </tr>\n",
       "    <tr>\n",
       "      <td>6</td>\n",
       "      <td>7</td>\n",
       "      <td>Jul</td>\n",
       "      <td>43</td>\n",
       "      <td>41.5354</td>\n",
       "      <td>NaN</td>\n",
       "    </tr>\n",
       "    <tr>\n",
       "      <td>7</td>\n",
       "      <td>8</td>\n",
       "      <td>Ago</td>\n",
       "      <td>47</td>\n",
       "      <td>41.8283</td>\n",
       "      <td>NaN</td>\n",
       "    </tr>\n",
       "    <tr>\n",
       "      <td>8</td>\n",
       "      <td>9</td>\n",
       "      <td>Sep</td>\n",
       "      <td>56</td>\n",
       "      <td>42.8626</td>\n",
       "      <td>NaN</td>\n",
       "    </tr>\n",
       "    <tr>\n",
       "      <td>9</td>\n",
       "      <td>10</td>\n",
       "      <td>Oct</td>\n",
       "      <td>52</td>\n",
       "      <td>45.4901</td>\n",
       "      <td>NaN</td>\n",
       "    </tr>\n",
       "    <tr>\n",
       "      <td>10</td>\n",
       "      <td>11</td>\n",
       "      <td>Nov</td>\n",
       "      <td>55</td>\n",
       "      <td>46.7921</td>\n",
       "      <td>NaN</td>\n",
       "    </tr>\n",
       "    <tr>\n",
       "      <td>11</td>\n",
       "      <td>12</td>\n",
       "      <td>Dic</td>\n",
       "      <td>54</td>\n",
       "      <td>48.4337</td>\n",
       "      <td>NaN</td>\n",
       "    </tr>\n",
       "    <tr>\n",
       "      <td>12</td>\n",
       "      <td>13</td>\n",
       "      <td>Ene</td>\n",
       "      <td>Nan</td>\n",
       "      <td>49.5469</td>\n",
       "      <td>49.5469</td>\n",
       "    </tr>\n",
       "    <tr>\n",
       "      <td>13</td>\n",
       "      <td>14</td>\n",
       "      <td>Ene</td>\n",
       "      <td>Nan</td>\n",
       "      <td>Nan</td>\n",
       "      <td>49.5469</td>\n",
       "    </tr>\n",
       "    <tr>\n",
       "      <td>14</td>\n",
       "      <td>15</td>\n",
       "      <td>Ene</td>\n",
       "      <td>Nan</td>\n",
       "      <td>Nan</td>\n",
       "      <td>49.5469</td>\n",
       "    </tr>\n",
       "  </tbody>\n",
       "</table>\n",
       "</div>"
      ],
      "text/plain": [
       "    Periodo   Mes Demanda      SES  Predicción\n",
       "0         1  Ene       37       37         NaN\n",
       "1         2   Feb      40       37         NaN\n",
       "2         3   Mar      41     37.6         NaN\n",
       "3         4   Abr      37    38.28         NaN\n",
       "4         5   May      45   38.024         NaN\n",
       "5         6   Jun      50  39.4192         NaN\n",
       "6         7   Jul      43  41.5354         NaN\n",
       "7         8   Ago      47  41.8283         NaN\n",
       "8         9   Sep      56  42.8626         NaN\n",
       "9        10   Oct      52  45.4901         NaN\n",
       "10       11   Nov      55  46.7921         NaN\n",
       "11       12   Dic      54  48.4337         NaN\n",
       "12       13  Ene      Nan  49.5469     49.5469\n",
       "13       14  Ene      Nan      Nan     49.5469\n",
       "14       15  Ene      Nan      Nan     49.5469"
      ]
     },
     "execution_count": 23,
     "metadata": {},
     "output_type": "execute_result"
    }
   ],
   "source": [
    "for n in range(pred.index[0],pred.index[-1]+1):\n",
    "    try:\n",
    "        SES=df.iloc[n][3]\n",
    "        mes=df.iloc[n-12][1]\n",
    "    except:\n",
    "        SES='Nan'\n",
    "    df.loc[n] = [n+1, mes, 'Nan',SES,round(pred[n],4)]\n",
    "df"
   ]
  },
  {
   "cell_type": "code",
   "execution_count": 24,
   "metadata": {},
   "outputs": [
    {
     "data": {
      "image/png": "[encoded data removed]",
      "text/plain": [
       "<Figure size 864x360 with 1 Axes>"
      ]
     },
     "metadata": {
      "needs_background": "light"
     },
     "output_type": "display_data"
    }
   ],
   "source": [
    "plt.figure(figsize=(12,5))\n",
    "plt.plot(df['Periodo'],df['Demanda'],'o-',label=\"Demanda\")\n",
    "plt.plot(df['Periodo'],df['SES'],'o-',color=\"red\",label=\"Suavización Exponencial\")\n",
    "plt.plot(df['Periodo'],df['Predicción'],'o-',color=\"green\",label=\"Predicción\")\n",
    "\n",
    "#Nombres de gráfico y ejes.\n",
    "plt.xlabel(\"Tiempo\",fontsize=14)\n",
    "plt.ylabel(\"Demanda\",fontsize=14)\n",
    "plt.title(\"Grafica de Demanda - Time Serie\",fontsize=18)\n",
    "plt.legend(loc='best')\n",
    "plt.show()"
   ]
  },
  {
   "cell_type": "markdown",
   "metadata": {},
   "source": [
    "##  <font color='#7E9BC0'> Suavización Exponencial Simple - Estimación del Error </font>"
   ]
  },
  {
   "cell_type": "code",
   "execution_count": 25,
   "metadata": {},
   "outputs": [],
   "source": [
    "y_true=df[\"Demanda\"][:12]\n",
    "y_pred=df[\"SES\"][:12]"
   ]
  },
  {
   "cell_type": "code",
   "execution_count": 26,
   "metadata": {},
   "outputs": [
    {
     "name": "stdout",
     "output_type": "stream",
     "text": [
      "Mean Squared Error - MSE:  43.75\n",
      "Root Mean Squared Error - RMSE:  6.61\n",
      "Mean Absolute Desviation - MAD:  5.44\n",
      "Mean Percentage Error Absolute- MAPE:  11.0 %\n"
     ]
    }
   ],
   "source": [
    "from sklearn.metrics import mean_squared_error as MSE\n",
    "\n",
    "#MSE\n",
    "mse=round(MSE(y_true, y_pred),2)\n",
    "print(\"Mean Squared Error - MSE: \",mse)\n",
    "\n",
    "#RMSE\n",
    "rmse= round(math.sqrt(mse),2)\n",
    "print(\"Root Mean Squared Error - RMSE: \",rmse)\n",
    "\n",
    "#MAD.\n",
    "mad = round(np.mean(np.absolute(y_true-y_pred)),2)\n",
    "print(\"Mean Absolute Desviation - MAD: \",mad)\n",
    "\n",
    "#MAPE\n",
    "mape=round(np.mean(np.absolute(y_true-y_pred)/y_true),3)*100\n",
    "print(\"Mean Percentage Error Absolute- MAPE: \",mape,\"%\")"
   ]
  },
  {
   "cell_type": "markdown",
   "metadata": {},
   "source": [
    "##  <font color='#7E9BC0'> Suavización Exponencial Simple v/s Moving Average </font>"
   ]
  },
  {
   "cell_type": "code",
   "execution_count": 27,
   "metadata": {},
   "outputs": [
    {
     "data": {
      "text/plain": [
       "0.18181818181818182"
      ]
     },
     "execution_count": 27,
     "metadata": {},
     "output_type": "execute_result"
    }
   ],
   "source": [
    "df=original.copy()\n",
    "y_true=df['Demanda'][0:12]\n",
    "y_true\n",
    "\n",
    "n=len(y_true)\n",
    "\n",
    "alpha=2/(n-1)\n",
    "alpha"
   ]
  },
  {
   "cell_type": "code",
   "execution_count": 28,
   "metadata": {},
   "outputs": [
    {
     "data": {
      "text/plain": [
       "0     37.0\n",
       "1     40.0\n",
       "2     41.0\n",
       "3     37.0\n",
       "4     45.0\n",
       "5     50.0\n",
       "6     43.0\n",
       "7     47.0\n",
       "8     56.0\n",
       "9     52.0\n",
       "10    55.0\n",
       "11    54.0\n",
       "Name: Demanda, dtype: float64"
      ]
     },
     "execution_count": 28,
     "metadata": {},
     "output_type": "execute_result"
    }
   ],
   "source": [
    "y_true"
   ]
  },
  {
   "cell_type": "code",
   "execution_count": 29,
   "metadata": {},
   "outputs": [],
   "source": [
    "#Suavización exponencial simple:\n",
    "\n",
    "mod1 = SimpleExpSmoothing(y_true).fit(smoothing_level=alpha,optimized=False)\n",
    "pred1=mod1.forecast(1)"
   ]
  },
  {
   "cell_type": "code",
   "execution_count": 30,
   "metadata": {},
   "outputs": [
    {
     "data": {
      "text/plain": [
       "0     37.000000\n",
       "1     37.000000\n",
       "2     37.600000\n",
       "3     38.280000\n",
       "4     38.024000\n",
       "5     39.419200\n",
       "6     41.535360\n",
       "7     41.828288\n",
       "8     42.862630\n",
       "9     45.490104\n",
       "10    46.792083\n",
       "11    48.433667\n",
       "12    48.960007\n",
       "dtype: float64"
      ]
     },
     "execution_count": 30,
     "metadata": {},
     "output_type": "execute_result"
    }
   ],
   "source": [
    "prediction1=mod.fittedvalues.append(pred1)\n",
    "prediction1"
   ]
  },
  {
   "cell_type": "code",
   "execution_count": 31,
   "metadata": {},
   "outputs": [
    {
     "data": {
      "text/plain": [
       "0     37.000000\n",
       "1     37.000000\n",
       "2     37.600000\n",
       "3     38.280000\n",
       "4     38.024000\n",
       "5     39.419200\n",
       "6     41.535360\n",
       "7     41.828288\n",
       "8     42.862630\n",
       "9     45.490104\n",
       "10    46.792083\n",
       "11    48.433667\n",
       "12    53.920695\n",
       "dtype: float64"
      ]
     },
     "execution_count": 31,
     "metadata": {},
     "output_type": "execute_result"
    }
   ],
   "source": [
    "mod2 = SimpleExpSmoothing(y_true).fit(smoothing_level=0.6,optimized=False)\n",
    "pred2=mod2.forecast(1)\n",
    "prediction2=mod.fittedvalues.append(pred2)\n",
    "prediction2"
   ]
  },
  {
   "cell_type": "code",
   "execution_count": 32,
   "metadata": {},
   "outputs": [
    {
     "data": {
      "image/png": "[encoded data removed]",
      "text/plain": [
       "<Figure size 864x360 with 1 Axes>"
      ]
     },
     "metadata": {
      "needs_background": "light"
     },
     "output_type": "display_data"
    }
   ],
   "source": [
    "plt.figure(figsize=(12,5))\n",
    "plt.plot(y_true,'o-',label=\"Demanda\")\n",
    "plt.plot(prediction1,'--',color=\"red\",label=r\"$Suavización \\;Exponencial_1$\")\n",
    "plt.plot(ma_model,'--',color=\"green\",label=\"Promedio Móvil\")\n",
    "plt.plot(prediction2,'--',color=\"purple\",label=r\"$Suavización \\;Exponencial_2$\")\n",
    "\n",
    "#Nombres de gráfico y ejes.\n",
    "plt.xlabel(\"Tiempo\",fontsize=14)\n",
    "plt.ylabel(\"Demanda\",fontsize=14)\n",
    "plt.title(\"Grafica de Demanda - Time Serie\",fontsize=18)\n",
    "plt.legend(loc='best')\n",
    "plt.show()"
   ]
  },
  {
   "cell_type": "markdown",
   "metadata": {},
   "source": [
    "##  <font color='#7E9BC0'> Suavización Exponencial Simple Parametros </font>"
   ]
  },
  {
   "cell_type": "code",
   "execution_count": 33,
   "metadata": {},
   "outputs": [
    {
     "data": {
      "text/plain": [
       "0     37.0\n",
       "1     40.0\n",
       "2     41.0\n",
       "3     37.0\n",
       "4     45.0\n",
       "5     50.0\n",
       "6     43.0\n",
       "7     47.0\n",
       "8     56.0\n",
       "9     52.0\n",
       "10    55.0\n",
       "11    54.0\n",
       "Name: Demanda, dtype: float64"
      ]
     },
     "execution_count": 33,
     "metadata": {},
     "output_type": "execute_result"
    }
   ],
   "source": [
    "df=original.copy()\n",
    "y_true=df['Demanda'][0:12]\n",
    "y_true"
   ]
  },
  {
   "cell_type": "code",
   "execution_count": 34,
   "metadata": {},
   "outputs": [],
   "source": [
    "mod1 = SimpleExpSmoothing(y_true).fit(smoothing_level=0.1,optimized=False)\n",
    "pred1=mod1.forecast(1)\n",
    "\n",
    "mod2 = SimpleExpSmoothing(y_true).fit(smoothing_level=0.2,optimized=False)\n",
    "pred2=mod2.forecast(1)\n",
    "\n",
    "mod3 = SimpleExpSmoothing(y_true).fit(smoothing_level=0.4,optimized=False)\n",
    "pred3=mod3.forecast(1)\n",
    "\n",
    "mod4 = SimpleExpSmoothing(y_true).fit(smoothing_level=0.5,optimized=False)\n",
    "pred4 =mod4.forecast(1)\n",
    "\n",
    "mod5  = SimpleExpSmoothing(y_true).fit(smoothing_level=0.6,optimized=False)\n",
    "pred5 = mod5.forecast(1)\n",
    "\n",
    "mod6 = SimpleExpSmoothing(y_true).fit(smoothing_level=0.7,optimized=False)\n",
    "pred6=mod6.forecast(1)"
   ]
  },
  {
   "cell_type": "code",
   "execution_count": 35,
   "metadata": {},
   "outputs": [],
   "source": [
    "# Add values:\n",
    "df['SES1']=mod1.fittedvalues.append(pred1)\n",
    "df['SES2']=mod2.fittedvalues.append(pred2)\n",
    "df['SES3']=mod3.fittedvalues.append(pred3)\n",
    "df['SES4']=mod4.fittedvalues.append(pred4)\n",
    "df['SES5']=mod5.fittedvalues.append(pred5)\n",
    "df['SES6']=mod6.fittedvalues.append(pred6)"
   ]
  },
  {
   "cell_type": "code",
   "execution_count": 36,
   "metadata": {},
   "outputs": [
    {
     "data": {
      "text/html": [
       "<div>\n",
       "<style scoped>\n",
       "    .dataframe tbody tr th:only-of-type {\n",
       "        vertical-align: middle;\n",
       "    }\n",
       "\n",
       "    .dataframe tbody tr th {\n",
       "        vertical-align: top;\n",
       "    }\n",
       "\n",
       "    .dataframe thead th {\n",
       "        text-align: right;\n",
       "    }\n",
       "</style>\n",
       "<table border=\"1\" class=\"dataframe\">\n",
       "  <thead>\n",
       "    <tr style=\"text-align: right;\">\n",
       "      <th></th>\n",
       "      <th>Periodo</th>\n",
       "      <th>Mes</th>\n",
       "      <th>Demanda</th>\n",
       "      <th>SES1</th>\n",
       "      <th>SES2</th>\n",
       "      <th>SES3</th>\n",
       "      <th>SES4</th>\n",
       "      <th>SES5</th>\n",
       "      <th>SES6</th>\n",
       "    </tr>\n",
       "  </thead>\n",
       "  <tbody>\n",
       "    <tr>\n",
       "      <td>0</td>\n",
       "      <td>1</td>\n",
       "      <td>Ene</td>\n",
       "      <td>37.0</td>\n",
       "      <td>37.000000</td>\n",
       "      <td>37.000000</td>\n",
       "      <td>37.000000</td>\n",
       "      <td>37.000000</td>\n",
       "      <td>37.000000</td>\n",
       "      <td>37.000000</td>\n",
       "    </tr>\n",
       "    <tr>\n",
       "      <td>1</td>\n",
       "      <td>2</td>\n",
       "      <td>Feb</td>\n",
       "      <td>40.0</td>\n",
       "      <td>37.000000</td>\n",
       "      <td>37.000000</td>\n",
       "      <td>37.000000</td>\n",
       "      <td>37.000000</td>\n",
       "      <td>37.000000</td>\n",
       "      <td>37.000000</td>\n",
       "    </tr>\n",
       "    <tr>\n",
       "      <td>2</td>\n",
       "      <td>3</td>\n",
       "      <td>Mar</td>\n",
       "      <td>41.0</td>\n",
       "      <td>37.300000</td>\n",
       "      <td>37.600000</td>\n",
       "      <td>38.200000</td>\n",
       "      <td>38.500000</td>\n",
       "      <td>38.800000</td>\n",
       "      <td>39.100000</td>\n",
       "    </tr>\n",
       "    <tr>\n",
       "      <td>3</td>\n",
       "      <td>4</td>\n",
       "      <td>Abr</td>\n",
       "      <td>37.0</td>\n",
       "      <td>37.670000</td>\n",
       "      <td>38.280000</td>\n",
       "      <td>39.320000</td>\n",
       "      <td>39.750000</td>\n",
       "      <td>40.120000</td>\n",
       "      <td>40.430000</td>\n",
       "    </tr>\n",
       "    <tr>\n",
       "      <td>4</td>\n",
       "      <td>5</td>\n",
       "      <td>May</td>\n",
       "      <td>45.0</td>\n",
       "      <td>37.603000</td>\n",
       "      <td>38.024000</td>\n",
       "      <td>38.392000</td>\n",
       "      <td>38.375000</td>\n",
       "      <td>38.248000</td>\n",
       "      <td>38.029000</td>\n",
       "    </tr>\n",
       "    <tr>\n",
       "      <td>5</td>\n",
       "      <td>6</td>\n",
       "      <td>Jun</td>\n",
       "      <td>50.0</td>\n",
       "      <td>38.342700</td>\n",
       "      <td>39.419200</td>\n",
       "      <td>41.035200</td>\n",
       "      <td>41.687500</td>\n",
       "      <td>42.299200</td>\n",
       "      <td>42.908700</td>\n",
       "    </tr>\n",
       "    <tr>\n",
       "      <td>6</td>\n",
       "      <td>7</td>\n",
       "      <td>Jul</td>\n",
       "      <td>43.0</td>\n",
       "      <td>39.508430</td>\n",
       "      <td>41.535360</td>\n",
       "      <td>44.621120</td>\n",
       "      <td>45.843750</td>\n",
       "      <td>46.919680</td>\n",
       "      <td>47.872610</td>\n",
       "    </tr>\n",
       "    <tr>\n",
       "      <td>7</td>\n",
       "      <td>8</td>\n",
       "      <td>Ago</td>\n",
       "      <td>47.0</td>\n",
       "      <td>39.857587</td>\n",
       "      <td>41.828288</td>\n",
       "      <td>43.972672</td>\n",
       "      <td>44.421875</td>\n",
       "      <td>44.567872</td>\n",
       "      <td>44.461783</td>\n",
       "    </tr>\n",
       "    <tr>\n",
       "      <td>8</td>\n",
       "      <td>9</td>\n",
       "      <td>Sep</td>\n",
       "      <td>56.0</td>\n",
       "      <td>40.571828</td>\n",
       "      <td>42.862630</td>\n",
       "      <td>45.183603</td>\n",
       "      <td>45.710938</td>\n",
       "      <td>46.027149</td>\n",
       "      <td>46.238535</td>\n",
       "    </tr>\n",
       "    <tr>\n",
       "      <td>9</td>\n",
       "      <td>10</td>\n",
       "      <td>Oct</td>\n",
       "      <td>52.0</td>\n",
       "      <td>42.114645</td>\n",
       "      <td>45.490104</td>\n",
       "      <td>49.510162</td>\n",
       "      <td>50.855469</td>\n",
       "      <td>52.010860</td>\n",
       "      <td>53.071560</td>\n",
       "    </tr>\n",
       "    <tr>\n",
       "      <td>10</td>\n",
       "      <td>11</td>\n",
       "      <td>Nov</td>\n",
       "      <td>55.0</td>\n",
       "      <td>43.103181</td>\n",
       "      <td>46.792083</td>\n",
       "      <td>50.506097</td>\n",
       "      <td>51.427734</td>\n",
       "      <td>52.004344</td>\n",
       "      <td>52.321468</td>\n",
       "    </tr>\n",
       "    <tr>\n",
       "      <td>11</td>\n",
       "      <td>12</td>\n",
       "      <td>Dic</td>\n",
       "      <td>54.0</td>\n",
       "      <td>44.292863</td>\n",
       "      <td>48.433667</td>\n",
       "      <td>52.303658</td>\n",
       "      <td>53.213867</td>\n",
       "      <td>53.801738</td>\n",
       "      <td>54.196440</td>\n",
       "    </tr>\n",
       "    <tr>\n",
       "      <td>12</td>\n",
       "      <td>13</td>\n",
       "      <td>Ene</td>\n",
       "      <td>NaN</td>\n",
       "      <td>45.263577</td>\n",
       "      <td>49.546933</td>\n",
       "      <td>52.982195</td>\n",
       "      <td>53.606934</td>\n",
       "      <td>53.920695</td>\n",
       "      <td>54.058932</td>\n",
       "    </tr>\n",
       "  </tbody>\n",
       "</table>\n",
       "</div>"
      ],
      "text/plain": [
       "    Periodo   Mes  Demanda       SES1       SES2       SES3       SES4  \\\n",
       "0         1  Ene      37.0  37.000000  37.000000  37.000000  37.000000   \n",
       "1         2   Feb     40.0  37.000000  37.000000  37.000000  37.000000   \n",
       "2         3   Mar     41.0  37.300000  37.600000  38.200000  38.500000   \n",
       "3         4   Abr     37.0  37.670000  38.280000  39.320000  39.750000   \n",
       "4         5   May     45.0  37.603000  38.024000  38.392000  38.375000   \n",
       "5         6   Jun     50.0  38.342700  39.419200  41.035200  41.687500   \n",
       "6         7   Jul     43.0  39.508430  41.535360  44.621120  45.843750   \n",
       "7         8   Ago     47.0  39.857587  41.828288  43.972672  44.421875   \n",
       "8         9   Sep     56.0  40.571828  42.862630  45.183603  45.710938   \n",
       "9        10   Oct     52.0  42.114645  45.490104  49.510162  50.855469   \n",
       "10       11   Nov     55.0  43.103181  46.792083  50.506097  51.427734   \n",
       "11       12   Dic     54.0  44.292863  48.433667  52.303658  53.213867   \n",
       "12       13  Ene       NaN  45.263577  49.546933  52.982195  53.606934   \n",
       "\n",
       "         SES5       SES6  \n",
       "0   37.000000  37.000000  \n",
       "1   37.000000  37.000000  \n",
       "2   38.800000  39.100000  \n",
       "3   40.120000  40.430000  \n",
       "4   38.248000  38.029000  \n",
       "5   42.299200  42.908700  \n",
       "6   46.919680  47.872610  \n",
       "7   44.567872  44.461783  \n",
       "8   46.027149  46.238535  \n",
       "9   52.010860  53.071560  \n",
       "10  52.004344  52.321468  \n",
       "11  53.801738  54.196440  \n",
       "12  53.920695  54.058932  "
      ]
     },
     "execution_count": 36,
     "metadata": {},
     "output_type": "execute_result"
    }
   ],
   "source": [
    "df"
   ]
  },
  {
   "cell_type": "code",
   "execution_count": 37,
   "metadata": {},
   "outputs": [
    {
     "data": {
      "image/png": "[encoded data removed]",
      "text/plain": [
       "<Figure size 864x360 with 1 Axes>"
      ]
     },
     "metadata": {
      "needs_background": "light"
     },
     "output_type": "display_data"
    }
   ],
   "source": [
    "plt.figure(figsize=(12,5))\n",
    "plt.plot(df['Periodo'],df['Demanda'],'o-',label=\"Demanda\")\n",
    "plt.plot(df['Periodo'],df['SES1'],'--',label=r'Suavización Exponencial $\\alpha=0.1$')\n",
    "plt.plot(df['Periodo'],df['SES2'],'--',label=r\"Suavización Exponencial $\\alpha=0.2$\")\n",
    "plt.plot(df['Periodo'],df['SES3'],'--',label=r\"Suavización Exponencial $\\alpha=0.4$\")\n",
    "plt.plot(df['Periodo'],df['SES4'],'--',label=r\"Suavización Exponencial $\\alpha=0.5$\")\n",
    "plt.plot(df['Periodo'],df['SES5'],'--',label=r\"Suavización Exponencial $\\alpha=0.6$\")\n",
    "plt.plot(df['Periodo'],df['SES6'],'--',label=r\"Suavización Exponencial $\\alpha=0.7$\")\n",
    "\n",
    "\n",
    "#Nombres de gráfico y ejes.\n",
    "plt.xlabel(\"Tiempo\",fontsize=14)\n",
    "plt.ylabel(\"Demanda\",fontsize=14)\n",
    "plt.title(\"Grafica de Demanda - Time Serie\",fontsize=18)\n",
    "plt.legend(loc='best')\n",
    "plt.show()"
   ]
  },
  {
   "cell_type": "markdown",
   "metadata": {},
   "source": [
    " ##  <font color='#7E9BC0'> Suavización Exponencial Simple - Exponencial Smooth Optimizado </font>"
   ]
  },
  {
   "cell_type": "code",
   "execution_count": 38,
   "metadata": {},
   "outputs": [],
   "source": [
    "df=original.copy()\n",
    "y_true=df['Demanda'][0:12]\n",
    "y_true\n",
    "mod  = SimpleExpSmoothing(y_true).fit(optimized=True,use_brute=True)\n",
    "pred = mod.forecast(3)"
   ]
  },
  {
   "cell_type": "code",
   "execution_count": 39,
   "metadata": {},
   "outputs": [
    {
     "data": {
      "text/html": [
       "<div>\n",
       "<style scoped>\n",
       "    .dataframe tbody tr th:only-of-type {\n",
       "        vertical-align: middle;\n",
       "    }\n",
       "\n",
       "    .dataframe tbody tr th {\n",
       "        vertical-align: top;\n",
       "    }\n",
       "\n",
       "    .dataframe thead th {\n",
       "        text-align: right;\n",
       "    }\n",
       "</style>\n",
       "<table border=\"1\" class=\"dataframe\">\n",
       "  <thead>\n",
       "    <tr style=\"text-align: right;\">\n",
       "      <th></th>\n",
       "      <th>name</th>\n",
       "      <th>param</th>\n",
       "      <th>optimized</th>\n",
       "    </tr>\n",
       "  </thead>\n",
       "  <tbody>\n",
       "    <tr>\n",
       "      <td>smoothing_level</td>\n",
       "      <td>alpha</td>\n",
       "      <td>0.647928</td>\n",
       "      <td>True</td>\n",
       "    </tr>\n",
       "    <tr>\n",
       "      <td>initial_level</td>\n",
       "      <td>l.0</td>\n",
       "      <td>38.146788</td>\n",
       "      <td>True</td>\n",
       "    </tr>\n",
       "  </tbody>\n",
       "</table>\n",
       "</div>"
      ],
      "text/plain": [
       "                  name      param  optimized\n",
       "smoothing_level  alpha   0.647928       True\n",
       "initial_level      l.0  38.146788       True"
      ]
     },
     "execution_count": 39,
     "metadata": {},
     "output_type": "execute_result"
    }
   ],
   "source": [
    "mod.params_formatted"
   ]
  },
  {
   "cell_type": "code",
   "execution_count": 40,
   "metadata": {},
   "outputs": [
    {
     "data": {
      "text/html": [
       "<div>\n",
       "<style scoped>\n",
       "    .dataframe tbody tr th:only-of-type {\n",
       "        vertical-align: middle;\n",
       "    }\n",
       "\n",
       "    .dataframe tbody tr th {\n",
       "        vertical-align: top;\n",
       "    }\n",
       "\n",
       "    .dataframe thead th {\n",
       "        text-align: right;\n",
       "    }\n",
       "</style>\n",
       "<table border=\"1\" class=\"dataframe\">\n",
       "  <thead>\n",
       "    <tr style=\"text-align: right;\">\n",
       "      <th></th>\n",
       "      <th>Periodo</th>\n",
       "      <th>Mes</th>\n",
       "      <th>Demanda</th>\n",
       "      <th>SES</th>\n",
       "      <th>Predicción</th>\n",
       "    </tr>\n",
       "  </thead>\n",
       "  <tbody>\n",
       "    <tr>\n",
       "      <td>0</td>\n",
       "      <td>1</td>\n",
       "      <td>Ene</td>\n",
       "      <td>37</td>\n",
       "      <td>38.1468</td>\n",
       "      <td>NaN</td>\n",
       "    </tr>\n",
       "    <tr>\n",
       "      <td>1</td>\n",
       "      <td>2</td>\n",
       "      <td>Feb</td>\n",
       "      <td>40</td>\n",
       "      <td>37.4038</td>\n",
       "      <td>NaN</td>\n",
       "    </tr>\n",
       "    <tr>\n",
       "      <td>2</td>\n",
       "      <td>3</td>\n",
       "      <td>Mar</td>\n",
       "      <td>41</td>\n",
       "      <td>39.0859</td>\n",
       "      <td>NaN</td>\n",
       "    </tr>\n",
       "    <tr>\n",
       "      <td>3</td>\n",
       "      <td>4</td>\n",
       "      <td>Abr</td>\n",
       "      <td>37</td>\n",
       "      <td>40.3261</td>\n",
       "      <td>NaN</td>\n",
       "    </tr>\n",
       "    <tr>\n",
       "      <td>4</td>\n",
       "      <td>5</td>\n",
       "      <td>May</td>\n",
       "      <td>45</td>\n",
       "      <td>38.171</td>\n",
       "      <td>NaN</td>\n",
       "    </tr>\n",
       "    <tr>\n",
       "      <td>5</td>\n",
       "      <td>6</td>\n",
       "      <td>Jun</td>\n",
       "      <td>50</td>\n",
       "      <td>42.5957</td>\n",
       "      <td>NaN</td>\n",
       "    </tr>\n",
       "    <tr>\n",
       "      <td>6</td>\n",
       "      <td>7</td>\n",
       "      <td>Jul</td>\n",
       "      <td>43</td>\n",
       "      <td>47.3932</td>\n",
       "      <td>NaN</td>\n",
       "    </tr>\n",
       "    <tr>\n",
       "      <td>7</td>\n",
       "      <td>8</td>\n",
       "      <td>Ago</td>\n",
       "      <td>47</td>\n",
       "      <td>44.5467</td>\n",
       "      <td>NaN</td>\n",
       "    </tr>\n",
       "    <tr>\n",
       "      <td>8</td>\n",
       "      <td>9</td>\n",
       "      <td>Sep</td>\n",
       "      <td>56</td>\n",
       "      <td>46.1363</td>\n",
       "      <td>NaN</td>\n",
       "    </tr>\n",
       "    <tr>\n",
       "      <td>9</td>\n",
       "      <td>10</td>\n",
       "      <td>Oct</td>\n",
       "      <td>52</td>\n",
       "      <td>52.5273</td>\n",
       "      <td>NaN</td>\n",
       "    </tr>\n",
       "    <tr>\n",
       "      <td>10</td>\n",
       "      <td>11</td>\n",
       "      <td>Nov</td>\n",
       "      <td>55</td>\n",
       "      <td>52.1856</td>\n",
       "      <td>NaN</td>\n",
       "    </tr>\n",
       "    <tr>\n",
       "      <td>11</td>\n",
       "      <td>12</td>\n",
       "      <td>Dic</td>\n",
       "      <td>54</td>\n",
       "      <td>54.0091</td>\n",
       "      <td>NaN</td>\n",
       "    </tr>\n",
       "    <tr>\n",
       "      <td>12</td>\n",
       "      <td>13</td>\n",
       "      <td>Ene</td>\n",
       "      <td>Nan</td>\n",
       "      <td>54.0032</td>\n",
       "      <td>54.0032</td>\n",
       "    </tr>\n",
       "    <tr>\n",
       "      <td>13</td>\n",
       "      <td>14</td>\n",
       "      <td>Ene</td>\n",
       "      <td>Nan</td>\n",
       "      <td>Nan</td>\n",
       "      <td>54.0032</td>\n",
       "    </tr>\n",
       "    <tr>\n",
       "      <td>14</td>\n",
       "      <td>15</td>\n",
       "      <td>Ene</td>\n",
       "      <td>Nan</td>\n",
       "      <td>Nan</td>\n",
       "      <td>54.0032</td>\n",
       "    </tr>\n",
       "  </tbody>\n",
       "</table>\n",
       "</div>"
      ],
      "text/plain": [
       "    Periodo   Mes Demanda      SES  Predicción\n",
       "0         1  Ene       37  38.1468         NaN\n",
       "1         2   Feb      40  37.4038         NaN\n",
       "2         3   Mar      41  39.0859         NaN\n",
       "3         4   Abr      37  40.3261         NaN\n",
       "4         5   May      45   38.171         NaN\n",
       "5         6   Jun      50  42.5957         NaN\n",
       "6         7   Jul      43  47.3932         NaN\n",
       "7         8   Ago      47  44.5467         NaN\n",
       "8         9   Sep      56  46.1363         NaN\n",
       "9        10   Oct      52  52.5273         NaN\n",
       "10       11   Nov      55  52.1856         NaN\n",
       "11       12   Dic      54  54.0091         NaN\n",
       "12       13  Ene      Nan  54.0032     54.0032\n",
       "13       14  Ene      Nan      Nan     54.0032\n",
       "14       15  Ene      Nan      Nan     54.0032"
      ]
     },
     "execution_count": 40,
     "metadata": {},
     "output_type": "execute_result"
    }
   ],
   "source": [
    "df['SES']=mod.fittedvalues.append(pred)\n",
    "df['Predicción']=pred\n",
    "\n",
    "for n in range(pred.index[0],pred.index[-1]+1):\n",
    "    try:\n",
    "        SES=df.iloc[n][3]\n",
    "        mes=df.iloc[n-12][1]\n",
    "    except:\n",
    "        SES='Nan'\n",
    "    df.loc[n] = [n+1, mes, 'Nan',SES,round(pred[n],4)]\n",
    "df"
   ]
  },
  {
   "cell_type": "code",
   "execution_count": 41,
   "metadata": {},
   "outputs": [
    {
     "data": {
      "image/png": "[encoded data removed]",
      "text/plain": [
       "<Figure size 864x360 with 1 Axes>"
      ]
     },
     "metadata": {
      "needs_background": "light"
     },
     "output_type": "display_data"
    }
   ],
   "source": [
    "plt.figure(figsize=(12,5))\n",
    "plt.plot(df['Periodo'],df['Demanda'],'o-',label=\"Demanda\")\n",
    "plt.plot(df['Periodo'],df['SES'],'o-',color=\"red\",label=\"Suavización Exponencial\")\n",
    "plt.plot(df['Periodo'],df['Predicción'],'o-',color=\"green\",label=\"Predicción\")\n",
    "\n",
    "#Nombres de gráfico y ejes.\n",
    "plt.xlabel(\"Tiempo\",fontsize=14)\n",
    "plt.ylabel(\"Demanda\",fontsize=14)\n",
    "plt.title(\"Grafica de Demanda - Time Serie | Optimizada\",fontsize=18)\n",
    "plt.legend(loc='best')\n",
    "plt.show()"
   ]
  },
  {
   "cell_type": "code",
   "execution_count": 42,
   "metadata": {},
   "outputs": [],
   "source": [
    "y_true=df[\"Demanda\"][:12]\n",
    "y_pred=df[\"SES\"][:12]"
   ]
  },
  {
   "cell_type": "code",
   "execution_count": 43,
   "metadata": {},
   "outputs": [
    {
     "name": "stdout",
     "output_type": "stream",
     "text": [
      "Mean Squared Error - MSE:  21.25\n",
      "Root Mean Squared Error - RMSE:  4.61\n",
      "Mean Absolute Desviation - MAD:  3.61\n",
      "Mean Percentage Error Absolute- MAPE:  7.7 %\n"
     ]
    }
   ],
   "source": [
    "#MSE\n",
    "mse=round(MSE(y_true, y_pred),2)\n",
    "print(\"Mean Squared Error - MSE: \",mse)\n",
    "\n",
    "#RMSE\n",
    "rmse= round(math.sqrt(mse),2)\n",
    "print(\"Root Mean Squared Error - RMSE: \",rmse)\n",
    "\n",
    "#MAD.\n",
    "mad = round(np.mean(np.absolute(y_true-y_pred)),2)\n",
    "print(\"Mean Absolute Desviation - MAD: \",mad)\n",
    "\n",
    "#MAPE\n",
    "mape=round(np.mean(np.absolute(y_true-y_pred)/y_true),3)*100\n",
    "print(\"Mean Percentage Error Absolute- MAPE: \",mape,\"%\")"
   ]
  }
 ],
 "metadata": {
  "kernelspec": {
   "display_name": "Python 3",
   "language": "python",
   "name": "python3"
  },
  "language_info": {
   "codemirror_mode": {
    "name": "ipython",
    "version": 3
   },
   "file_extension": ".py",
   "mimetype": "text/x-python",
   "name": "python",
   "nbconvert_exporter": "python",
   "pygments_lexer": "ipython3",
   "version": "3.6.9"
  }
 },
 "nbformat": 4,
 "nbformat_minor": 2
}
