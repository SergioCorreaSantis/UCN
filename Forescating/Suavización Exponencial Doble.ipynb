{
 "cells": [
  {
   "cell_type": "markdown",
   "metadata": {},
   "source": [
    "![title](UCN ICI.png)\n",
    "\n",
    " #  <font color='#7E9BC0'> Suavización Exponencial Doble. </font>\n",
    "\n",
    "<div class=\"alert alert-info\"> </h4> **Material preparado para la carrera de Ingeniería Civil Industrial | Universidad Católica del Norte | Escuela de Ingeniería - Campus Coquimbo | Curso - Adminitración de la Producción 2.**\n",
    "</h4> </div>\n",
    "\n",
    "\n",
    "<div class=\"alert alert-block alert-warning\">\n",
    "\n",
    "<b> **Autor:**</b> \n",
    "Este material es una recopilacion de trabajos de clases y proyectos realizados por Sergio Correa Santis. Si necestita mayor información o quiere utilizar este material en forma parcial o total, solo debe utilizar la correspondiente referencia o escribir a **sergio.correa@ucn.cl**.  \n",
    "</div>\n",
    "\n",
    "Documentación:\n",
    "- Método de Holt, Statsmodels: [Holt](https://www.statsmodels.org/dev/generated/statsmodels.tsa.holtwinters.Holt.html)\n",
    "- Método de Holt Fit, Statsmodels: [Holt.fit](https://www.statsmodels.org/dev/generated/statsmodels.tsa.holtwinters.Holt.fit.html#statsmodels.tsa.holtwinters.Holt.fit)"
   ]
  },
  {
   "cell_type": "code",
   "execution_count": 1,
   "metadata": {},
   "outputs": [],
   "source": [
    "import math\n",
    "import warnings\n",
    "import numpy as np\n",
    "import pandas as pd\n",
    "import seaborn as sns\n",
    "import matplotlib.pyplot as plt\n",
    "\n",
    "from sklearn.metrics import mean_squared_error as MSE\n",
    "from sklearn.linear_model import LinearRegression\n",
    "from statsmodels.tsa.api import ExponentialSmoothing, SimpleExpSmoothing, Holt\n",
    "\n",
    "warnings.filterwarnings(\"ignore\")"
   ]
  },
  {
   "cell_type": "code",
   "execution_count": 2,
   "metadata": {},
   "outputs": [
    {
     "data": {
      "text/html": [
       "<div>\n",
       "<style scoped>\n",
       "    .dataframe tbody tr th:only-of-type {\n",
       "        vertical-align: middle;\n",
       "    }\n",
       "\n",
       "    .dataframe tbody tr th {\n",
       "        vertical-align: top;\n",
       "    }\n",
       "\n",
       "    .dataframe thead th {\n",
       "        text-align: right;\n",
       "    }\n",
       "</style>\n",
       "<table border=\"1\" class=\"dataframe\">\n",
       "  <thead>\n",
       "    <tr style=\"text-align: right;\">\n",
       "      <th></th>\n",
       "      <th>Periodo</th>\n",
       "      <th>Mes</th>\n",
       "      <th>Demanda</th>\n",
       "    </tr>\n",
       "  </thead>\n",
       "  <tbody>\n",
       "    <tr>\n",
       "      <td>0</td>\n",
       "      <td>1</td>\n",
       "      <td>Ene</td>\n",
       "      <td>37.0</td>\n",
       "    </tr>\n",
       "    <tr>\n",
       "      <td>1</td>\n",
       "      <td>2</td>\n",
       "      <td>Feb</td>\n",
       "      <td>40.0</td>\n",
       "    </tr>\n",
       "    <tr>\n",
       "      <td>2</td>\n",
       "      <td>3</td>\n",
       "      <td>Mar</td>\n",
       "      <td>41.0</td>\n",
       "    </tr>\n",
       "    <tr>\n",
       "      <td>3</td>\n",
       "      <td>4</td>\n",
       "      <td>Abr</td>\n",
       "      <td>37.0</td>\n",
       "    </tr>\n",
       "    <tr>\n",
       "      <td>4</td>\n",
       "      <td>5</td>\n",
       "      <td>May</td>\n",
       "      <td>45.0</td>\n",
       "    </tr>\n",
       "    <tr>\n",
       "      <td>5</td>\n",
       "      <td>6</td>\n",
       "      <td>Jun</td>\n",
       "      <td>50.0</td>\n",
       "    </tr>\n",
       "    <tr>\n",
       "      <td>6</td>\n",
       "      <td>7</td>\n",
       "      <td>Jul</td>\n",
       "      <td>43.0</td>\n",
       "    </tr>\n",
       "    <tr>\n",
       "      <td>7</td>\n",
       "      <td>8</td>\n",
       "      <td>Ago</td>\n",
       "      <td>47.0</td>\n",
       "    </tr>\n",
       "    <tr>\n",
       "      <td>8</td>\n",
       "      <td>9</td>\n",
       "      <td>Sep</td>\n",
       "      <td>56.0</td>\n",
       "    </tr>\n",
       "    <tr>\n",
       "      <td>9</td>\n",
       "      <td>10</td>\n",
       "      <td>Oct</td>\n",
       "      <td>52.0</td>\n",
       "    </tr>\n",
       "    <tr>\n",
       "      <td>10</td>\n",
       "      <td>11</td>\n",
       "      <td>Nov</td>\n",
       "      <td>55.0</td>\n",
       "    </tr>\n",
       "    <tr>\n",
       "      <td>11</td>\n",
       "      <td>12</td>\n",
       "      <td>Dic</td>\n",
       "      <td>54.0</td>\n",
       "    </tr>\n",
       "    <tr>\n",
       "      <td>12</td>\n",
       "      <td>13</td>\n",
       "      <td>Ene</td>\n",
       "      <td>NaN</td>\n",
       "    </tr>\n",
       "  </tbody>\n",
       "</table>\n",
       "</div>"
      ],
      "text/plain": [
       "    Periodo   Mes  Demanda\n",
       "0         1  Ene      37.0\n",
       "1         2   Feb     40.0\n",
       "2         3   Mar     41.0\n",
       "3         4   Abr     37.0\n",
       "4         5   May     45.0\n",
       "5         6   Jun     50.0\n",
       "6         7   Jul     43.0\n",
       "7         8   Ago     47.0\n",
       "8         9   Sep     56.0\n",
       "9        10   Oct     52.0\n",
       "10       11   Nov     55.0\n",
       "11       12   Dic     54.0\n",
       "12       13  Ene       NaN"
      ]
     },
     "execution_count": 2,
     "metadata": {},
     "output_type": "execute_result"
    }
   ],
   "source": [
    "original = pd.read_excel('Data_1.xlsx')\n",
    "df = original.copy()\n",
    "df"
   ]
  },
  {
   "cell_type": "markdown",
   "metadata": {},
   "source": [
    "#  <font color='#7E9BC0'> Método de Holt. </font>"
   ]
  },
  {
   "cell_type": "code",
   "execution_count": 3,
   "metadata": {},
   "outputs": [
    {
     "data": {
      "text/plain": [
       "12    55.993499\n",
       "13    57.415616\n",
       "14    58.837734\n",
       "dtype: float64"
      ]
     },
     "execution_count": 3,
     "metadata": {},
     "output_type": "execute_result"
    }
   ],
   "source": [
    "#Metodo de Holt\n",
    "y_true=df['Demanda'][:12]\n",
    "\n",
    "mod  = Holt(y_true).fit(smoothing_level=0.8, smoothing_slope=0.2,optimized=False)\n",
    "pred = mod.forecast(3)\n",
    "pred"
   ]
  },
  {
   "cell_type": "code",
   "execution_count": 4,
   "metadata": {},
   "outputs": [
    {
     "data": {
      "text/plain": [
       "0     40.000000\n",
       "1     40.120000\n",
       "2     42.524800\n",
       "3     43.561792\n",
       "4     39.519304\n",
       "5     45.987717\n",
       "6     51.923365\n",
       "7     46.082757\n",
       "8     48.261394\n",
       "9     57.135298\n",
       "10    54.888431\n",
       "11    56.856909\n",
       "dtype: float64"
      ]
     },
     "execution_count": 4,
     "metadata": {},
     "output_type": "execute_result"
    }
   ],
   "source": [
    "mod.fittedvalues"
   ]
  },
  {
   "cell_type": "code",
   "execution_count": 5,
   "metadata": {},
   "outputs": [
    {
     "data": {
      "text/html": [
       "<div>\n",
       "<style scoped>\n",
       "    .dataframe tbody tr th:only-of-type {\n",
       "        vertical-align: middle;\n",
       "    }\n",
       "\n",
       "    .dataframe tbody tr th {\n",
       "        vertical-align: top;\n",
       "    }\n",
       "\n",
       "    .dataframe thead th {\n",
       "        text-align: right;\n",
       "    }\n",
       "</style>\n",
       "<table border=\"1\" class=\"dataframe\">\n",
       "  <thead>\n",
       "    <tr style=\"text-align: right;\">\n",
       "      <th></th>\n",
       "      <th>name</th>\n",
       "      <th>param</th>\n",
       "      <th>optimized</th>\n",
       "    </tr>\n",
       "  </thead>\n",
       "  <tbody>\n",
       "    <tr>\n",
       "      <td>smoothing_level</td>\n",
       "      <td>alpha</td>\n",
       "      <td>0.8</td>\n",
       "      <td>False</td>\n",
       "    </tr>\n",
       "    <tr>\n",
       "      <td>smoothing_slope</td>\n",
       "      <td>beta</td>\n",
       "      <td>0.2</td>\n",
       "      <td>False</td>\n",
       "    </tr>\n",
       "    <tr>\n",
       "      <td>initial_level</td>\n",
       "      <td>l.0</td>\n",
       "      <td>37.0</td>\n",
       "      <td>False</td>\n",
       "    </tr>\n",
       "    <tr>\n",
       "      <td>initial_slope</td>\n",
       "      <td>b.0</td>\n",
       "      <td>3.0</td>\n",
       "      <td>False</td>\n",
       "    </tr>\n",
       "  </tbody>\n",
       "</table>\n",
       "</div>"
      ],
      "text/plain": [
       "                  name  param  optimized\n",
       "smoothing_level  alpha    0.8      False\n",
       "smoothing_slope   beta    0.2      False\n",
       "initial_level      l.0   37.0      False\n",
       "initial_slope      b.0    3.0      False"
      ]
     },
     "execution_count": 5,
     "metadata": {},
     "output_type": "execute_result"
    }
   ],
   "source": [
    "mod.params_formatted"
   ]
  },
  {
   "cell_type": "code",
   "execution_count": 6,
   "metadata": {},
   "outputs": [
    {
     "data": {
      "text/html": [
       "<div>\n",
       "<style scoped>\n",
       "    .dataframe tbody tr th:only-of-type {\n",
       "        vertical-align: middle;\n",
       "    }\n",
       "\n",
       "    .dataframe tbody tr th {\n",
       "        vertical-align: top;\n",
       "    }\n",
       "\n",
       "    .dataframe thead th {\n",
       "        text-align: right;\n",
       "    }\n",
       "</style>\n",
       "<table border=\"1\" class=\"dataframe\">\n",
       "  <thead>\n",
       "    <tr style=\"text-align: right;\">\n",
       "      <th></th>\n",
       "      <th>Periodo</th>\n",
       "      <th>Mes</th>\n",
       "      <th>Demanda</th>\n",
       "      <th>Holt</th>\n",
       "    </tr>\n",
       "  </thead>\n",
       "  <tbody>\n",
       "    <tr>\n",
       "      <td>0</td>\n",
       "      <td>1</td>\n",
       "      <td>Ene</td>\n",
       "      <td>37.0</td>\n",
       "      <td>40.000000</td>\n",
       "    </tr>\n",
       "    <tr>\n",
       "      <td>1</td>\n",
       "      <td>2</td>\n",
       "      <td>Feb</td>\n",
       "      <td>40.0</td>\n",
       "      <td>40.120000</td>\n",
       "    </tr>\n",
       "    <tr>\n",
       "      <td>2</td>\n",
       "      <td>3</td>\n",
       "      <td>Mar</td>\n",
       "      <td>41.0</td>\n",
       "      <td>42.524800</td>\n",
       "    </tr>\n",
       "    <tr>\n",
       "      <td>3</td>\n",
       "      <td>4</td>\n",
       "      <td>Abr</td>\n",
       "      <td>37.0</td>\n",
       "      <td>43.561792</td>\n",
       "    </tr>\n",
       "    <tr>\n",
       "      <td>4</td>\n",
       "      <td>5</td>\n",
       "      <td>May</td>\n",
       "      <td>45.0</td>\n",
       "      <td>39.519304</td>\n",
       "    </tr>\n",
       "    <tr>\n",
       "      <td>5</td>\n",
       "      <td>6</td>\n",
       "      <td>Jun</td>\n",
       "      <td>50.0</td>\n",
       "      <td>45.987717</td>\n",
       "    </tr>\n",
       "    <tr>\n",
       "      <td>6</td>\n",
       "      <td>7</td>\n",
       "      <td>Jul</td>\n",
       "      <td>43.0</td>\n",
       "      <td>51.923365</td>\n",
       "    </tr>\n",
       "    <tr>\n",
       "      <td>7</td>\n",
       "      <td>8</td>\n",
       "      <td>Ago</td>\n",
       "      <td>47.0</td>\n",
       "      <td>46.082757</td>\n",
       "    </tr>\n",
       "    <tr>\n",
       "      <td>8</td>\n",
       "      <td>9</td>\n",
       "      <td>Sep</td>\n",
       "      <td>56.0</td>\n",
       "      <td>48.261394</td>\n",
       "    </tr>\n",
       "    <tr>\n",
       "      <td>9</td>\n",
       "      <td>10</td>\n",
       "      <td>Oct</td>\n",
       "      <td>52.0</td>\n",
       "      <td>57.135298</td>\n",
       "    </tr>\n",
       "    <tr>\n",
       "      <td>10</td>\n",
       "      <td>11</td>\n",
       "      <td>Nov</td>\n",
       "      <td>55.0</td>\n",
       "      <td>54.888431</td>\n",
       "    </tr>\n",
       "    <tr>\n",
       "      <td>11</td>\n",
       "      <td>12</td>\n",
       "      <td>Dic</td>\n",
       "      <td>54.0</td>\n",
       "      <td>56.856909</td>\n",
       "    </tr>\n",
       "    <tr>\n",
       "      <td>12</td>\n",
       "      <td>13</td>\n",
       "      <td>Ene</td>\n",
       "      <td>NaN</td>\n",
       "      <td>55.993499</td>\n",
       "    </tr>\n",
       "  </tbody>\n",
       "</table>\n",
       "</div>"
      ],
      "text/plain": [
       "    Periodo   Mes  Demanda       Holt\n",
       "0         1  Ene      37.0  40.000000\n",
       "1         2   Feb     40.0  40.120000\n",
       "2         3   Mar     41.0  42.524800\n",
       "3         4   Abr     37.0  43.561792\n",
       "4         5   May     45.0  39.519304\n",
       "5         6   Jun     50.0  45.987717\n",
       "6         7   Jul     43.0  51.923365\n",
       "7         8   Ago     47.0  46.082757\n",
       "8         9   Sep     56.0  48.261394\n",
       "9        10   Oct     52.0  57.135298\n",
       "10       11   Nov     55.0  54.888431\n",
       "11       12   Dic     54.0  56.856909\n",
       "12       13  Ene       NaN  55.993499"
      ]
     },
     "execution_count": 6,
     "metadata": {},
     "output_type": "execute_result"
    }
   ],
   "source": [
    "df['Holt']=mod.fittedvalues.append(pred)\n",
    "df"
   ]
  },
  {
   "cell_type": "code",
   "execution_count": 7,
   "metadata": {},
   "outputs": [
    {
     "data": {
      "image/png": "[encoded data removed]",
      "text/plain": [
       "<Figure size 864x360 with 1 Axes>"
      ]
     },
     "metadata": {
      "needs_background": "light"
     },
     "output_type": "display_data"
    }
   ],
   "source": [
    "plt.figure(figsize=(12,5))\n",
    "plt.plot(df['Periodo'],df['Demanda'],'o-',label=\"Demanda\")\n",
    "plt.plot(df['Periodo'],df['Holt'],'o-',color=\"red\",label=\"Suavización Exponencial - Holt\")\n",
    "plt.plot(pred.shift(1),'o-',color=\"green\",label=\"Predicción\")\n",
    "\n",
    "#Nombres de gráfico y ejes.\n",
    "plt.xlabel(\"Tiempo\",fontsize=14)\n",
    "plt.ylabel(\"Demanda\",fontsize=14)\n",
    "plt.title(\"Grafica de Demanda - Time Serie\",fontsize=18)\n",
    "plt.legend(loc='best')\n",
    "plt.show()"
   ]
  },
  {
   "cell_type": "code",
   "execution_count": 8,
   "metadata": {},
   "outputs": [
    {
     "name": "stdout",
     "output_type": "stream",
     "text": [
      "Mean Squared Error - MSE:  22.95\n",
      "Root Mean Squared Error - RMSE:  4.79\n",
      "Mean Absolute Desviation - MAD:  3.87\n",
      "Mean Percentage Error Absolute- MAPE:  8.5 %\n"
     ]
    }
   ],
   "source": [
    "y_pred=df['Holt'][:12]\n",
    "#MSE\n",
    "mse=round(MSE(y_true, y_pred),2)\n",
    "print(\"Mean Squared Error - MSE: \",mse)\n",
    "\n",
    "#RMSE\n",
    "rmse= round(math.sqrt(mse),2)\n",
    "print(\"Root Mean Squared Error - RMSE: \",rmse)\n",
    "\n",
    "#MAD.\n",
    "mad = round(np.mean(np.absolute(y_true-y_pred)),2)\n",
    "print(\"Mean Absolute Desviation - MAD: \",mad)\n",
    "\n",
    "#MAPE\n",
    "mape=round(np.mean(np.absolute(y_true-y_pred)/y_true),3)*100\n",
    "print(\"Mean Percentage Error Absolute- MAPE: \",mape,\"%\")"
   ]
  },
  {
   "cell_type": "markdown",
   "metadata": {},
   "source": [
    "#  <font color='#7E9BC0'> Método de Holt & Inicialization  </font>"
   ]
  },
  {
   "cell_type": "code",
   "execution_count": 9,
   "metadata": {},
   "outputs": [
    {
     "name": "stdout",
     "output_type": "stream",
     "text": [
      "El nivel de inicialización es:  35.21212121212121\n",
      "La pendiente de inicialización es:  1.7237762237762237\n"
     ]
    }
   ],
   "source": [
    "#Inicializar las variables\n",
    "X=np.asarray(df['Periodo'][:12]).reshape(-1, 1)\n",
    "Y=np.asarray(df['Demanda'][:12]).reshape(-1, 1)\n",
    "reg = LinearRegression().fit(X, Y)\n",
    "\n",
    "nivel=reg.intercept_[0]\n",
    "pendiente=reg.coef_[0][0]\n",
    "\n",
    "print(\"El nivel de inicialización es: \",nivel)\n",
    "print(\"La pendiente de inicialización es: \",pendiente)"
   ]
  },
  {
   "cell_type": "code",
   "execution_count": 10,
   "metadata": {},
   "outputs": [
    {
     "data": {
      "text/html": [
       "<div>\n",
       "<style scoped>\n",
       "    .dataframe tbody tr th:only-of-type {\n",
       "        vertical-align: middle;\n",
       "    }\n",
       "\n",
       "    .dataframe tbody tr th {\n",
       "        vertical-align: top;\n",
       "    }\n",
       "\n",
       "    .dataframe thead th {\n",
       "        text-align: right;\n",
       "    }\n",
       "</style>\n",
       "<table border=\"1\" class=\"dataframe\">\n",
       "  <thead>\n",
       "    <tr style=\"text-align: right;\">\n",
       "      <th></th>\n",
       "      <th>name</th>\n",
       "      <th>param</th>\n",
       "      <th>optimized</th>\n",
       "    </tr>\n",
       "  </thead>\n",
       "  <tbody>\n",
       "    <tr>\n",
       "      <td>smoothing_level</td>\n",
       "      <td>alpha</td>\n",
       "      <td>0.300000</td>\n",
       "      <td>False</td>\n",
       "    </tr>\n",
       "    <tr>\n",
       "      <td>smoothing_slope</td>\n",
       "      <td>beta</td>\n",
       "      <td>0.500000</td>\n",
       "      <td>False</td>\n",
       "    </tr>\n",
       "    <tr>\n",
       "      <td>initial_level</td>\n",
       "      <td>l.0</td>\n",
       "      <td>35.212121</td>\n",
       "      <td>False</td>\n",
       "    </tr>\n",
       "    <tr>\n",
       "      <td>initial_slope</td>\n",
       "      <td>b.0</td>\n",
       "      <td>1.723776</td>\n",
       "      <td>False</td>\n",
       "    </tr>\n",
       "  </tbody>\n",
       "</table>\n",
       "</div>"
      ],
      "text/plain": [
       "                  name      param  optimized\n",
       "smoothing_level  alpha   0.300000      False\n",
       "smoothing_slope   beta   0.500000      False\n",
       "initial_level      l.0  35.212121      False\n",
       "initial_slope      b.0   1.723776      False"
      ]
     },
     "execution_count": 10,
     "metadata": {},
     "output_type": "execute_result"
    }
   ],
   "source": [
    "df = original.copy()\n",
    "\n",
    "y_true=df['Demanda'][:12]\n",
    "\n",
    "mod  = Holt(y_true).fit(smoothing_level=0.3, smoothing_slope=0.5,optimized=False,\n",
    "                        initial_level=nivel, initial_slope=pendiente)\n",
    "pred = mod.forecast(3)\n",
    "df['Holt']=mod.fittedvalues.append(pred)\n",
    "mod.params_formatted"
   ]
  },
  {
   "cell_type": "code",
   "execution_count": 11,
   "metadata": {},
   "outputs": [
    {
     "data": {
      "image/png": "[encoded data removed]",
      "text/plain": [
       "<Figure size 864x360 with 1 Axes>"
      ]
     },
     "metadata": {
      "needs_background": "light"
     },
     "output_type": "display_data"
    }
   ],
   "source": [
    "plt.figure(figsize=(12,5))\n",
    "plt.plot(df['Periodo'],df['Demanda'],'o-',label=\"Demanda\")\n",
    "plt.plot(df['Periodo'],df['Holt'],'o-',color=\"red\",label=\"Suavización Exponencial - Holt\")\n",
    "plt.plot(pred.shift(1),'o-',color=\"green\",label=\"Predicción\")\n",
    "\n",
    "#Nombres de gráfico y ejes.\n",
    "plt.xlabel(\"Tiempo\",fontsize=14)\n",
    "plt.ylabel(\"Demanda\",fontsize=14)\n",
    "plt.title(\"Grafica de Demanda - Time Serie\",fontsize=18)\n",
    "plt.legend(loc='best')\n",
    "plt.show()"
   ]
  },
  {
   "cell_type": "code",
   "execution_count": 12,
   "metadata": {},
   "outputs": [
    {
     "name": "stdout",
     "output_type": "stream",
     "text": [
      "Mean Squared Error - MSE:  13.77\n",
      "Root Mean Squared Error - RMSE:  3.71\n",
      "Mean Absolute Desviation - MAD:  2.83\n",
      "Mean Percentage Error Absolute- MAPE:  6.1 %\n"
     ]
    }
   ],
   "source": [
    "y_pred=df['Holt'][:12]\n",
    "#MSE\n",
    "mse=round(MSE(y_true, y_pred),2)\n",
    "print(\"Mean Squared Error - MSE: \",mse)\n",
    "\n",
    "#RMSE\n",
    "rmse= round(math.sqrt(mse),2)\n",
    "print(\"Root Mean Squared Error - RMSE: \",rmse)\n",
    "\n",
    "#MAD.\n",
    "mad = round(np.mean(np.absolute(y_true-y_pred)),2)\n",
    "print(\"Mean Absolute Desviation - MAD: \",mad)\n",
    "\n",
    "#MAPE\n",
    "mape=round(np.mean(np.absolute(y_true-y_pred)/y_true),3)*100\n",
    "print(\"Mean Percentage Error Absolute- MAPE: \",mape,\"%\")"
   ]
  },
  {
   "cell_type": "markdown",
   "metadata": {},
   "source": [
    "#  <font color='#7E9BC0'> Método de Holt & Optimización  </font>"
   ]
  },
  {
   "cell_type": "code",
   "execution_count": 13,
   "metadata": {},
   "outputs": [
    {
     "data": {
      "text/html": [
       "<div>\n",
       "<style scoped>\n",
       "    .dataframe tbody tr th:only-of-type {\n",
       "        vertical-align: middle;\n",
       "    }\n",
       "\n",
       "    .dataframe tbody tr th {\n",
       "        vertical-align: top;\n",
       "    }\n",
       "\n",
       "    .dataframe thead th {\n",
       "        text-align: right;\n",
       "    }\n",
       "</style>\n",
       "<table border=\"1\" class=\"dataframe\">\n",
       "  <thead>\n",
       "    <tr style=\"text-align: right;\">\n",
       "      <th></th>\n",
       "      <th>name</th>\n",
       "      <th>param</th>\n",
       "      <th>optimized</th>\n",
       "    </tr>\n",
       "  </thead>\n",
       "  <tbody>\n",
       "    <tr>\n",
       "      <td>smoothing_level</td>\n",
       "      <td>alpha</td>\n",
       "      <td>0.315789</td>\n",
       "      <td>True</td>\n",
       "    </tr>\n",
       "    <tr>\n",
       "      <td>smoothing_slope</td>\n",
       "      <td>beta</td>\n",
       "      <td>0.315789</td>\n",
       "      <td>True</td>\n",
       "    </tr>\n",
       "    <tr>\n",
       "      <td>initial_level</td>\n",
       "      <td>l.0</td>\n",
       "      <td>37.000000</td>\n",
       "      <td>True</td>\n",
       "    </tr>\n",
       "    <tr>\n",
       "      <td>initial_slope</td>\n",
       "      <td>b.0</td>\n",
       "      <td>3.000000</td>\n",
       "      <td>True</td>\n",
       "    </tr>\n",
       "  </tbody>\n",
       "</table>\n",
       "</div>"
      ],
      "text/plain": [
       "                  name      param  optimized\n",
       "smoothing_level  alpha   0.315789       True\n",
       "smoothing_slope   beta   0.315789       True\n",
       "initial_level      l.0  37.000000       True\n",
       "initial_slope      b.0   3.000000       True"
      ]
     },
     "execution_count": 13,
     "metadata": {},
     "output_type": "execute_result"
    }
   ],
   "source": [
    "df = original.copy()\n",
    "\n",
    "y_true=df['Demanda'][:12]\n",
    "mod  = Holt(y_true).fit(optimized=True,use_brute=True)\n",
    "pred = mod.forecast(3)\n",
    "df['Holt']=mod.fittedvalues.append(pred)\n",
    "mod.params_formatted"
   ]
  },
  {
   "cell_type": "code",
   "execution_count": 14,
   "metadata": {},
   "outputs": [
    {
     "data": {
      "image/png": "[encoded data removed]",
      "text/plain": [
       "<Figure size 864x360 with 1 Axes>"
      ]
     },
     "metadata": {
      "needs_background": "light"
     },
     "output_type": "display_data"
    }
   ],
   "source": [
    "plt.figure(figsize=(12,5))\n",
    "plt.plot(df['Periodo'],df['Demanda'],'o-',label=\"Demanda\")\n",
    "plt.plot(df['Periodo'],df['Holt'],'o-',color=\"red\",label=\"Suavización Exponencial - Holt\")\n",
    "plt.plot(pred.shift(1),'o-',color=\"green\",label=\"Predicción\")\n",
    "\n",
    "#Nombres de gráfico y ejes.\n",
    "plt.xlabel(\"Tiempo\",fontsize=14)\n",
    "plt.ylabel(\"Demanda\",fontsize=14)\n",
    "plt.title(\"Grafica de Demanda - Time Serie\",fontsize=18)\n",
    "plt.legend(loc='best')\n",
    "plt.show()"
   ]
  },
  {
   "cell_type": "code",
   "execution_count": 15,
   "metadata": {},
   "outputs": [
    {
     "name": "stdout",
     "output_type": "stream",
     "text": [
      "Mean Squared Error - MSE:  16.42\n",
      "Root Mean Squared Error - RMSE:  4.05\n",
      "Mean Absolute Desviation - MAD:  3.28\n",
      "Mean Percentage Error Absolute- MAPE:  7.3999999999999995 %\n"
     ]
    }
   ],
   "source": [
    "y_pred=df['Holt'][:12]\n",
    "#MSE\n",
    "mse=round(MSE(y_true, y_pred),2)\n",
    "print(\"Mean Squared Error - MSE: \",mse)\n",
    "\n",
    "#RMSE\n",
    "rmse= round(math.sqrt(mse),2)\n",
    "print(\"Root Mean Squared Error - RMSE: \",rmse)\n",
    "\n",
    "#MAD.\n",
    "mad = round(np.mean(np.absolute(y_true-y_pred)),2)\n",
    "print(\"Mean Absolute Desviation - MAD: \",mad)\n",
    "\n",
    "#MAPE\n",
    "mape=round(np.mean(np.absolute(y_true-y_pred)/y_true),3)*100\n",
    "print(\"Mean Percentage Error Absolute- MAPE: \",mape,\"%\")"
   ]
  },
  {
   "cell_type": "code",
   "execution_count": null,
   "metadata": {},
   "outputs": [],
   "source": []
  }
 ],
 "metadata": {
  "kernelspec": {
   "display_name": "Python 3",
   "language": "python",
   "name": "python3"
  },
  "language_info": {
   "codemirror_mode": {
    "name": "ipython",
    "version": 3
   },
   "file_extension": ".py",
   "mimetype": "text/x-python",
   "name": "python",
   "nbconvert_exporter": "python",
   "pygments_lexer": "ipython3",
   "version": "3.6.9"
  }
 },
 "nbformat": 4,
 "nbformat_minor": 2
}
