{
 "cells": [
  {
   "cell_type": "markdown",
   "metadata": {},
   "source": [
    "![title](Pictures/UCN.png)\n",
    "\n",
    " #  <font color=blue> Travel Salesman Problem - TSP con Cplex [v.1]. </font>\n",
    "\n",
    "Material preparado para la carrera de Ingeniería Civil Industrial | Investigación Operativa 2.\n",
    "\n",
    "\n",
    "**Escuela de Ingeniería Coquimbo - UCN**\n",
    "\n",
    "> El objetivo de este material es aplicar los conceptos de **Metaheurísticas** del curso de **investigación Operativa 2** en un contexto de **Data Science** con **_python_**.\n",
    ">Para esto se utilizará un ejemplo de _Hiller & Liberman novena edición, Capítulo 13.4_. Está implementación es un ejemplo para los que no están familiarizados con el TSP. En este caso <font color='green'>**resolveremos el problema utilizando programación entera con Cplex**.</font>: \n",
    "\n",
    "### Formulación del Problema\n",
    "Definiremos C como el conjunto de todas las ciudades que se desean visitar y como $c_i$ el nodo $i$ que representa la $ciudad\\;i$.La variable de decisión binaria $x_{i,j}$ que represetna ir de la ciudad $i$ a la $j$ doonde $x_{i,j}$=$(0,1)$. A **$A$** como los arcos formados entre la ciudad $i$ y la ciudad $j$, donde $i\\neq j$, siendo $d_{i,j}$ la distancia entre la ciudad $i$ y la ciudad $j$.\n",
    "\n",
    "\\begin{equation}\n",
    "Min\\;Z=\\displaystyle\\sum_{\\forall \\;A} x_{ij}d_{ij}\n",
    "\\end{equation}\n",
    "$s.t$\n",
    "\\begin{equation}\n",
    "\\displaystyle\\sum_{\\forall \\;i \\; \\in \\; Ciudades} x_i=1\n",
    "\\end{equation}\n",
    "\\begin{equation}\n",
    "\\displaystyle\\sum_{\\forall \\;j \\; \\in \\; Ciudades} x_j=1\n",
    "\\end{equation}\n",
    "\\begin{equation}\n",
    "c_i+1\\geq c_j+M(1-x_{ij})\n",
    "\\end{equation}\n",
    "\n",
    "\n",
    "**Para resolver este problema seguiremos los siguientes paso:**\n",
    "\n",
    "1. Paso 1: Crearemos los datos: Ciudades y Distancias.\n",
    "2. Paso 2: Gráficaremos ( no necesario)\n",
    "3. Paso 3: Crearemos el modelo en Cplex: Función Objetivo y Restricciones\n",
    "4. Paso 4: Resolveremos con CPlex\n",
    "5. Paso 5: Graficaremos la solución."
   ]
  },
  {
   "cell_type": "markdown",
   "metadata": {},
   "source": [
    "## Paso 1: Crearemos los datos: ciudades, arcos y distancias."
   ]
  },
  {
   "cell_type": "code",
   "execution_count": 1,
   "metadata": {},
   "outputs": [],
   "source": [
    "#Comenzaremos importanto las librerias necesarias.\n",
    "import numpy as np\n",
    "import matplotlib.pyplot as plt\n",
    "from docplex.mp.model import Model\n",
    "import docplex.mp.solution as Solucion"
   ]
  },
  {
   "cell_type": "markdown",
   "metadata": {},
   "source": [
    "**Paso 1.1:** Crear 10 ciudades para el ejemplo y los respectivos arcos."
   ]
  },
  {
   "cell_type": "code",
   "execution_count": null,
   "metadata": {},
   "outputs": [],
   "source": []
  },
  {
   "cell_type": "markdown",
   "metadata": {},
   "source": [
    "**Paso 1.2:** Crear las coordenadas para cada ciudad aleatoriamente, en una base de $100x100$"
   ]
  },
  {
   "cell_type": "code",
   "execution_count": null,
   "metadata": {},
   "outputs": [],
   "source": []
  },
  {
   "cell_type": "markdown",
   "metadata": {},
   "source": [
    "**Paso 1.3:** Gráficar las cordenadas iniciales - opcional."
   ]
  },
  {
   "cell_type": "code",
   "execution_count": null,
   "metadata": {},
   "outputs": [],
   "source": []
  },
  {
   "cell_type": "markdown",
   "metadata": {},
   "source": [
    "**Paso 1.4:** Realizar un diccionario relacionado cada arco con las distancia entre las ciudades"
   ]
  },
  {
   "cell_type": "code",
   "execution_count": null,
   "metadata": {},
   "outputs": [],
   "source": []
  },
  {
   "cell_type": "markdown",
   "metadata": {},
   "source": [
    "## Paso 2: Crearemos el modelo en Cplex."
   ]
  },
  {
   "cell_type": "markdown",
   "metadata": {},
   "source": [
    "**Paso 2.1:** Creamos el Modelo en Cplex"
   ]
  },
  {
   "cell_type": "code",
   "execution_count": null,
   "metadata": {},
   "outputs": [],
   "source": []
  },
  {
   "cell_type": "markdown",
   "metadata": {},
   "source": [
    "**Paso 2.2:** Creamos las variables de decisión en cplex"
   ]
  },
  {
   "cell_type": "code",
   "execution_count": null,
   "metadata": {},
   "outputs": [],
   "source": []
  },
  {
   "cell_type": "markdown",
   "metadata": {},
   "source": [
    "#### <font color=green> **Paso 2.3:** Función objetivo del TPS </font>\n",
    "\\begin{equation}\n",
    "Min\\;Z=\\displaystyle\\sum_{\\forall \\;A} x_{ij}c_{ij}\n",
    "\\end{equation}"
   ]
  },
  {
   "cell_type": "code",
   "execution_count": null,
   "metadata": {},
   "outputs": [],
   "source": []
  },
  {
   "cell_type": "markdown",
   "metadata": {},
   "source": [
    "#### <font color=green> 2.4: Restricciones del TPS </font>\n",
    "\\begin{equation}\n",
    "\\displaystyle\\sum_{\\forall \\;i \\; \\in \\; Ciudades} x_i=1\n",
    "\\end{equation}\n",
    "\\begin{equation}\n",
    "\\displaystyle\\sum_{\\forall \\;j \\; \\in \\; Ciudades} x_j=1\n",
    "\\end{equation}\n",
    "\\begin{equation}\n",
    "c_i+1\\geq c_j+M(1-x_{ij})\n",
    "\\end{equation}"
   ]
  },
  {
   "cell_type": "code",
   "execution_count": null,
   "metadata": {},
   "outputs": [],
   "source": []
  },
  {
   "cell_type": "code",
   "execution_count": null,
   "metadata": {},
   "outputs": [],
   "source": []
  },
  {
   "cell_type": "code",
   "execution_count": null,
   "metadata": {},
   "outputs": [],
   "source": []
  },
  {
   "cell_type": "markdown",
   "metadata": {},
   "source": [
    "**2.5:** Imprimir el modelo completo - opcional, pero recomendable."
   ]
  },
  {
   "cell_type": "code",
   "execution_count": null,
   "metadata": {},
   "outputs": [],
   "source": []
  },
  {
   "cell_type": "markdown",
   "metadata": {},
   "source": [
    "## Paso 3: Resolver el modelo con Cplex."
   ]
  },
  {
   "cell_type": "markdown",
   "metadata": {},
   "source": [
    "**Paso 3.1:** Resolver el modelo"
   ]
  },
  {
   "cell_type": "code",
   "execution_count": null,
   "metadata": {},
   "outputs": [],
   "source": []
  },
  {
   "cell_type": "markdown",
   "metadata": {},
   "source": [
    "**3.2:** Revisar si la solución es óptima"
   ]
  },
  {
   "cell_type": "code",
   "execution_count": null,
   "metadata": {},
   "outputs": [],
   "source": []
  },
  {
   "cell_type": "markdown",
   "metadata": {},
   "source": [
    "**3.3:** Optener la solución óptima y el valor de la función objetivo."
   ]
  },
  {
   "cell_type": "code",
   "execution_count": null,
   "metadata": {},
   "outputs": [],
   "source": []
  },
  {
   "cell_type": "markdown",
   "metadata": {},
   "source": [
    "## Paso 4: Graficar la solución"
   ]
  },
  {
   "cell_type": "code",
   "execution_count": null,
   "metadata": {},
   "outputs": [],
   "source": []
  }
 ],
 "metadata": {
  "kernelspec": {
   "display_name": "Python 3",
   "language": "python",
   "name": "python3"
  },
  "language_info": {
   "codemirror_mode": {
    "name": "ipython",
    "version": 3
   },
   "file_extension": ".py",
   "mimetype": "text/x-python",
   "name": "python",
   "nbconvert_exporter": "python",
   "pygments_lexer": "ipython3",
   "version": "3.6.3"
  }
 },
 "nbformat": 4,
 "nbformat_minor": 2
}
